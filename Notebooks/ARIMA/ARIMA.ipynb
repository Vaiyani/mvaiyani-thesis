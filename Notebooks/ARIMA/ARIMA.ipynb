{
 "cells": [
  {
   "cell_type": "code",
   "execution_count": 1,
   "id": "f2235578",
   "metadata": {},
   "outputs": [],
   "source": [
    "import pmdarima as pm\n",
    "import pandas as pd\n",
    "import numpy as np\n",
    "import matplotlib.pyplot as plt\n",
    "\n",
    "from statsmodels.tsa.arima.model import ARIMA\n",
    "from statsmodels.tsa.stattools import adfuller\n",
    "import statsmodels.api as sm\n",
    "from sklearn.preprocessing import MinMaxScaler, StandardScaler\n",
    "from numpy import log\n",
    "from statsmodels.graphics.tsaplots import plot_acf, plot_pacf\n",
    "\n"
   ]
  },
  {
   "cell_type": "code",
   "execution_count": null,
   "id": "70ed8f74",
   "metadata": {},
   "outputs": [],
   "source": [
    "df = pd.read_csv('./cleaned_data_daily.csv')\n",
    "df = df['close'].values"
   ]
  },
  {
   "cell_type": "code",
   "execution_count": null,
   "id": "e73d1be6",
   "metadata": {},
   "outputs": [],
   "source": [
    "result = adfuller(df)\n",
    "print('ADF Statistic: %f' % result[0])\n",
    "print('p-value: %f' % result[1])"
   ]
  },
  {
   "cell_type": "code",
   "execution_count": null,
   "id": "dd29d25c",
   "metadata": {},
   "outputs": [],
   "source": [
    "scaler = MinMaxScaler()\n",
    "train = df[:-15]\n",
    "test = df[-15:]\n",
    "# train = train.reshape(-1,1)\n",
    "# test = test.reshape(-1,1)\n",
    "# scaler = scaler.fit(train)\n",
    "# train_normalized = scaler.transform(train).squeeze()\n",
    "# test_normalized = scaler.transform(test).squeeze()\n",
    "train_normalized = train"
   ]
  },
  {
   "cell_type": "code",
   "execution_count": null,
   "id": "6100c3ac",
   "metadata": {},
   "outputs": [],
   "source": [
    "plt.rcParams.update({'figure.figsize':(10,7), 'figure.dpi':120})\n",
    "fig, axes = plt.subplots(3, 2, sharex=False)\n",
    "plt.subplots_adjust(left=None, bottom=None, right=None, top=None, wspace=None, hspace=0.5)\n",
    "axes[0, 0].plot(train_normalized)\n",
    "axes[0, 0].set_title('Original Series')\n",
    "plot_acf(train_normalized, ax=axes[0, 1], lags=30)\n",
    "\n",
    "\n",
    "# 1st Differencing\n",
    "axes[1, 0].plot(np.diff(train_normalized))\n",
    "axes[1, 0].set_title('1st Order Differencing')\n",
    "plot_acf(np.diff(train_normalized), ax=axes[1, 1],lags=30)\n",
    "\n",
    "\n",
    "# 2nd Differencing\n",
    "axes[2, 0].plot(np.diff(np.diff(train_normalized)))\n",
    "axes[2, 0].set_title('2nd Order Differencing')\n",
    "plot_acf(np.diff(np.diff(train_normalized)), ax=axes[2, 1],lags=30)\n",
    "\n",
    "plt.show()\n"
   ]
  },
  {
   "cell_type": "code",
   "execution_count": null,
   "id": "bf0a0131",
   "metadata": {},
   "outputs": [],
   "source": [
    "plt.rcParams.update({'figure.figsize':(9,3), 'figure.dpi':120})\n",
    "\n",
    "fig, axes = plt.subplots(1, 2)\n",
    "axes[0].plot(np.diff(train_normalized)) \n",
    "axes[0].set_title('1st Differencing')\n",
    "axes[1].set(ylim=(0,5))\n",
    "plot_pacf(np.diff(train_normalized), ax=axes[1], lags=30)\n",
    "\n",
    "plt.show()"
   ]
  },
  {
   "cell_type": "code",
   "execution_count": null,
   "id": "2d42540a",
   "metadata": {},
   "outputs": [],
   "source": [
    "#ARIMA\n",
    "model = ARIMA(train_normalized, order=(1,1,1), seasonal_order=(1, 1, 1, 7))\n",
    "# model = ARIMA(train_normalized, order=(1,1,1))\n",
    "model_fit = model.fit()\n",
    "model_fit.summary()"
   ]
  },
  {
   "cell_type": "code",
   "execution_count": null,
   "id": "4e50094b",
   "metadata": {},
   "outputs": [],
   "source": [
    "plt.rcParams.update({'figure.figsize':(10,7), 'figure.dpi':120})\n",
    "model_fit.plot_diagnostics()\n",
    "plt.show()"
   ]
  },
  {
   "cell_type": "code",
   "execution_count": null,
   "id": "3573d99d",
   "metadata": {},
   "outputs": [],
   "source": [
    "plt.rcParams.update({'figure.figsize':(10,3)})\n",
    "residuals = pd.DataFrame(model_fit.resid)\n",
    "fig, ax = plt.subplots(1,2)\n",
    "residuals.plot(title=\"Residuals\", ax=ax[0])\n",
    "residuals.plot(kind='kde', title='Density', ax=ax[1])\n",
    "plt.show()"
   ]
  },
  {
   "cell_type": "code",
   "execution_count": null,
   "id": "00738ceb",
   "metadata": {},
   "outputs": [],
   "source": [
    "fc = model_fit.forecast(15, alpha=0.05)"
   ]
  },
  {
   "cell_type": "code",
   "execution_count": null,
   "id": "4a96f4a4",
   "metadata": {},
   "outputs": [],
   "source": [
    "# forecast, conf = fc.predicted_mean, fc.conf_int()\n",
    "# fc_series = pd.Series(fc, index=test.index)\n",
    "# lower_series = pd.Series(conf[:, 0], index=test.index)\n",
    "# upper_series = pd.Series(conf[:, 1], index=test.index)"
   ]
  },
  {
   "cell_type": "code",
   "execution_count": null,
   "id": "679c242a",
   "metadata": {},
   "outputs": [],
   "source": [
    "# Plot\n",
    "plt.figure(figsize=(12,5), dpi=100)\n",
    "plt.plot(test, label='actual')\n",
    "plt.plot(fc, label='forecast')\n",
    "plt.title('Forecast vs Actuals')\n",
    "plt.show()"
   ]
  },
  {
   "cell_type": "markdown",
   "id": "31cc74be",
   "metadata": {},
   "source": [
    "## AUTO ARIMA ##"
   ]
  },
  {
   "cell_type": "code",
   "execution_count": 2,
   "id": "35129d15",
   "metadata": {},
   "outputs": [],
   "source": [
    "threshold = -7\n",
    "df = pd.read_csv('./cleaned_data_daily.csv')\n",
    "df_ = np.log(df['close'].values)\n",
    "train = df_[:threshold]\n",
    "test = df_[threshold:]\n",
    "# scaler = StandardScaler()\n",
    "# train = scaler.fit_transform(train.reshape(-1,1)).squeeze()\n",
    "# test = scaler.transform(test.reshape(-1,1)).squeeze()"
   ]
  },
  {
   "cell_type": "code",
   "execution_count": 3,
   "id": "41a752a2",
   "metadata": {},
   "outputs": [
    {
     "name": "stdout",
     "output_type": "stream",
     "text": [
      "Performing stepwise search to minimize aic\n",
      " ARIMA(6,1,6)(1,0,1)[7] intercept   : AIC=-5956.585, Time=5.97 sec\n",
      " ARIMA(0,1,0)(0,0,0)[7] intercept   : AIC=-5969.726, Time=0.17 sec\n",
      " ARIMA(1,1,0)(1,0,0)[7] intercept   : AIC=-5971.665, Time=0.27 sec\n",
      " ARIMA(0,1,1)(0,0,1)[7] intercept   : AIC=-5971.241, Time=0.43 sec\n",
      " ARIMA(0,1,0)(0,0,0)[7]             : AIC=-5970.170, Time=0.23 sec\n",
      " ARIMA(1,1,0)(0,0,0)[7] intercept   : AIC=-5973.220, Time=0.60 sec\n",
      " ARIMA(1,1,0)(0,0,1)[7] intercept   : AIC=-5971.672, Time=0.70 sec\n",
      " ARIMA(1,1,0)(1,0,1)[7] intercept   : AIC=-5970.028, Time=0.29 sec\n",
      " ARIMA(2,1,0)(0,0,0)[7] intercept   : AIC=-5974.010, Time=0.18 sec\n",
      " ARIMA(2,1,0)(1,0,0)[7] intercept   : AIC=-5972.507, Time=0.58 sec\n",
      " ARIMA(2,1,0)(0,0,1)[7] intercept   : AIC=-5972.519, Time=0.94 sec\n",
      " ARIMA(2,1,0)(1,0,1)[7] intercept   : AIC=-5970.896, Time=0.35 sec\n",
      " ARIMA(3,1,0)(0,0,0)[7] intercept   : AIC=-5972.108, Time=0.46 sec\n",
      " ARIMA(2,1,1)(0,0,0)[7] intercept   : AIC=-5972.179, Time=0.99 sec\n",
      " ARIMA(1,1,1)(0,0,0)[7] intercept   : AIC=-5973.149, Time=0.37 sec\n",
      " ARIMA(3,1,1)(0,0,0)[7] intercept   : AIC=-5970.115, Time=0.31 sec\n",
      " ARIMA(2,1,0)(0,0,0)[7]             : AIC=-5974.401, Time=0.25 sec\n",
      " ARIMA(2,1,0)(1,0,0)[7]             : AIC=-5972.848, Time=0.32 sec\n",
      " ARIMA(2,1,0)(0,0,1)[7]             : AIC=-5972.854, Time=0.34 sec\n",
      " ARIMA(2,1,0)(1,0,1)[7]             : AIC=-5971.165, Time=0.31 sec\n",
      " ARIMA(1,1,0)(0,0,0)[7]             : AIC=-5973.470, Time=0.10 sec\n",
      " ARIMA(3,1,0)(0,0,0)[7]             : AIC=-5972.526, Time=0.43 sec\n",
      " ARIMA(2,1,1)(0,0,0)[7]             : AIC=-5972.630, Time=0.27 sec\n",
      " ARIMA(1,1,1)(0,0,0)[7]             : AIC=-5973.447, Time=0.20 sec\n",
      " ARIMA(3,1,1)(0,0,0)[7]             : AIC=-5970.535, Time=0.31 sec\n",
      "\n",
      "Best model:  ARIMA(2,1,0)(0,0,0)[7]          \n",
      "Total fit time: 15.421 seconds\n"
     ]
    }
   ],
   "source": [
    "model = pm.auto_arima(train,\n",
    "                      start_p=10,\n",
    "                      start_q=10,\n",
    "                      test='adf',       # use adftest to find optimal 'd'\n",
    "                      max_p=10, \n",
    "                      max_q=10, \n",
    "                      m=7,             # frequency of series\n",
    "                      d=None,           # let model determine 'd'\n",
    "#                       seasonal=False,   # No Seasonality\n",
    "                      trace=True,\n",
    "                      error_action='ignore',  \n",
    "                      suppress_warnings=True, \n",
    "                      stepwise=True)"
   ]
  },
  {
   "cell_type": "code",
   "execution_count": 4,
   "id": "cbf5b55a",
   "metadata": {},
   "outputs": [
    {
     "data": {
      "text/plain": [
       "array([10.55245131, 10.54979147, 10.55010487, 10.5499781 , 10.54999782,\n",
       "       10.54999152, 10.54999267])"
      ]
     },
     "execution_count": 4,
     "metadata": {},
     "output_type": "execute_result"
    }
   ],
   "source": [
    "model.summary()\n",
    "fc = model.predict(n_periods=-threshold)\n",
    "fc"
   ]
  },
  {
   "cell_type": "code",
   "execution_count": 5,
   "id": "fbeff021",
   "metadata": {},
   "outputs": [
    {
     "name": "stderr",
     "output_type": "stream",
     "text": [
      "C:\\Users\\Athra\\anaconda3\\lib\\site-packages\\statsmodels\\base\\model.py:604: ConvergenceWarning: Maximum Likelihood optimization failed to converge. Check mle_retvals\n",
      "  warnings.warn(\"Maximum Likelihood optimization failed to \"\n"
     ]
    },
    {
     "data": {
      "text/html": [
       "<div>\n",
       "<style scoped>\n",
       "    .dataframe tbody tr th:only-of-type {\n",
       "        vertical-align: middle;\n",
       "    }\n",
       "\n",
       "    .dataframe tbody tr th {\n",
       "        vertical-align: top;\n",
       "    }\n",
       "\n",
       "    .dataframe thead th {\n",
       "        text-align: right;\n",
       "    }\n",
       "</style>\n",
       "<table border=\"1\" class=\"dataframe\">\n",
       "  <thead>\n",
       "    <tr style=\"text-align: right;\">\n",
       "      <th>y</th>\n",
       "      <th>mean</th>\n",
       "      <th>mean_se</th>\n",
       "      <th>mean_ci_lower</th>\n",
       "      <th>mean_ci_upper</th>\n",
       "    </tr>\n",
       "  </thead>\n",
       "  <tbody>\n",
       "    <tr>\n",
       "      <th>0</th>\n",
       "      <td>10.550860</td>\n",
       "      <td>0.042010</td>\n",
       "      <td>10.468523</td>\n",
       "      <td>10.633198</td>\n",
       "    </tr>\n",
       "    <tr>\n",
       "      <th>1</th>\n",
       "      <td>10.549026</td>\n",
       "      <td>0.057601</td>\n",
       "      <td>10.436130</td>\n",
       "      <td>10.661922</td>\n",
       "    </tr>\n",
       "    <tr>\n",
       "      <th>2</th>\n",
       "      <td>10.549657</td>\n",
       "      <td>0.070947</td>\n",
       "      <td>10.410602</td>\n",
       "      <td>10.688711</td>\n",
       "    </tr>\n",
       "    <tr>\n",
       "      <th>3</th>\n",
       "      <td>10.550084</td>\n",
       "      <td>0.082216</td>\n",
       "      <td>10.388944</td>\n",
       "      <td>10.711224</td>\n",
       "    </tr>\n",
       "    <tr>\n",
       "      <th>4</th>\n",
       "      <td>10.547129</td>\n",
       "      <td>0.092335</td>\n",
       "      <td>10.366156</td>\n",
       "      <td>10.728102</td>\n",
       "    </tr>\n",
       "    <tr>\n",
       "      <th>5</th>\n",
       "      <td>10.544064</td>\n",
       "      <td>0.102091</td>\n",
       "      <td>10.343970</td>\n",
       "      <td>10.744159</td>\n",
       "    </tr>\n",
       "    <tr>\n",
       "      <th>6</th>\n",
       "      <td>10.545067</td>\n",
       "      <td>0.111519</td>\n",
       "      <td>10.326494</td>\n",
       "      <td>10.763640</td>\n",
       "    </tr>\n",
       "  </tbody>\n",
       "</table>\n",
       "</div>"
      ],
      "text/plain": [
       "y       mean   mean_se  mean_ci_lower  mean_ci_upper\n",
       "0  10.550860  0.042010      10.468523      10.633198\n",
       "1  10.549026  0.057601      10.436130      10.661922\n",
       "2  10.549657  0.070947      10.410602      10.688711\n",
       "3  10.550084  0.082216      10.388944      10.711224\n",
       "4  10.547129  0.092335      10.366156      10.728102\n",
       "5  10.544064  0.102091      10.343970      10.744159\n",
       "6  10.545067  0.111519      10.326494      10.763640"
      ]
     },
     "execution_count": 5,
     "metadata": {},
     "output_type": "execute_result"
    }
   ],
   "source": [
    "model_ = sm.tsa.arima.ARIMA(train, order = (6,1,10), seasonal_order=(0, 0, 0, 7))\n",
    "fitted = model_.fit()\n",
    "fc_ = fitted.get_forecast(-threshold)\n",
    "fc_ = (fc_.summary_frame(alpha=0.05))\n",
    "fc_"
   ]
  },
  {
   "cell_type": "code",
   "execution_count": 6,
   "id": "18956049",
   "metadata": {},
   "outputs": [],
   "source": [
    "appended_org = np.concatenate((train[-20:],test))\n",
    "appended_fc = np.concatenate((train[-20:],fc))"
   ]
  },
  {
   "cell_type": "code",
   "execution_count": 7,
   "id": "420a1c9f",
   "metadata": {},
   "outputs": [
    {
     "data": {
      "image/png": "[encoded data removed]",
      "text/plain": [
       "<Figure size 432x288 with 1 Axes>"
      ]
     },
     "metadata": {
      "needs_background": "light"
     },
     "output_type": "display_data"
    }
   ],
   "source": [
    "plt.plot(appended_org)\n",
    "plt.plot(appended_fc)\n",
    "plt.show()"
   ]
  },
  {
   "cell_type": "code",
   "execution_count": null,
   "id": "a08b3525",
   "metadata": {},
   "outputs": [],
   "source": []
  }
 ],
 "metadata": {
  "kernelspec": {
   "display_name": "Python 3 (ipykernel)",
   "language": "python",
   "name": "python3"
  },
  "language_info": {
   "codemirror_mode": {
    "name": "ipython",
    "version": 3
   },
   "file_extension": ".py",
   "mimetype": "text/x-python",
   "name": "python",
   "nbconvert_exporter": "python",
   "pygments_lexer": "ipython3",
   "version": "3.9.12"
  }
 },
 "nbformat": 4,
 "nbformat_minor": 5
}
