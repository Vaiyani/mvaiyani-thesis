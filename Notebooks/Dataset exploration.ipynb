{
 "cells": [
  {
   "cell_type": "code",
   "execution_count": 1,
   "id": "0d89bb75",
   "metadata": {},
   "outputs": [],
   "source": [
    "import pandas as pd\n",
    "import datetime"
   ]
  },
  {
   "cell_type": "code",
   "execution_count": 15,
   "id": "5b513499",
   "metadata": {},
   "outputs": [],
   "source": [
    "df = pd.read_csv('../Data/data_original.csv')"
   ]
  },
  {
   "cell_type": "code",
   "execution_count": 16,
   "id": "3c8836ce",
   "metadata": {},
   "outputs": [
    {
     "name": "stdout",
     "output_type": "stream",
     "text": [
      "<class 'pandas.core.frame.DataFrame'>\n",
      "RangeIndex: 41256 entries, 0 to 41255\n",
      "Data columns (total 10 columns):\n",
      " #   Column       Non-Null Count  Dtype  \n",
      "---  ------       --------------  -----  \n",
      " 0   unix         41256 non-null  int64  \n",
      " 1   date         41256 non-null  object \n",
      " 2   symbol       41256 non-null  object \n",
      " 3   open         41256 non-null  float64\n",
      " 4   high         41256 non-null  float64\n",
      " 5   low          41256 non-null  float64\n",
      " 6   close        41256 non-null  float64\n",
      " 7   Volume BTC   41256 non-null  float64\n",
      " 8   Volume USDT  41256 non-null  float64\n",
      " 9   tradecount   15320 non-null  float64\n",
      "dtypes: float64(7), int64(1), object(2)\n",
      "memory usage: 3.1+ MB\n"
     ]
    }
   ],
   "source": [
    "df.info()"
   ]
  },
  {
   "cell_type": "code",
   "execution_count": 17,
   "id": "12917e77",
   "metadata": {},
   "outputs": [],
   "source": [
    "df['date2'] = pd.to_datetime(df['unix'], origin='unix',  unit='ms')"
   ]
  },
  {
   "cell_type": "code",
   "execution_count": 18,
   "id": "35078f16",
   "metadata": {},
   "outputs": [
    {
     "data": {
      "text/html": [
       "<div>\n",
       "<style scoped>\n",
       "    .dataframe tbody tr th:only-of-type {\n",
       "        vertical-align: middle;\n",
       "    }\n",
       "\n",
       "    .dataframe tbody tr th {\n",
       "        vertical-align: top;\n",
       "    }\n",
       "\n",
       "    .dataframe thead th {\n",
       "        text-align: right;\n",
       "    }\n",
       "</style>\n",
       "<table border=\"1\" class=\"dataframe\">\n",
       "  <thead>\n",
       "    <tr style=\"text-align: right;\">\n",
       "      <th></th>\n",
       "      <th>unix</th>\n",
       "      <th>date</th>\n",
       "      <th>symbol</th>\n",
       "      <th>open</th>\n",
       "      <th>high</th>\n",
       "      <th>low</th>\n",
       "      <th>close</th>\n",
       "      <th>Volume BTC</th>\n",
       "      <th>Volume USDT</th>\n",
       "      <th>tradecount</th>\n",
       "      <th>date2</th>\n",
       "    </tr>\n",
       "  </thead>\n",
       "  <tbody>\n",
       "    <tr>\n",
       "      <th>0</th>\n",
       "      <td>1651536000000</td>\n",
       "      <td>5/3/2022 0:00</td>\n",
       "      <td>BTC/USDT</td>\n",
       "      <td>38525.16</td>\n",
       "      <td>38573.82</td>\n",
       "      <td>38436.73</td>\n",
       "      <td>38455.02</td>\n",
       "      <td>841.40670</td>\n",
       "      <td>32399830.13</td>\n",
       "      <td>19999.0</td>\n",
       "      <td>2022-05-03 00:00:00</td>\n",
       "    </tr>\n",
       "    <tr>\n",
       "      <th>1</th>\n",
       "      <td>1651532400000</td>\n",
       "      <td>5/2/2022 23:00</td>\n",
       "      <td>BTC/USDT</td>\n",
       "      <td>38591.03</td>\n",
       "      <td>38747.46</td>\n",
       "      <td>38458.90</td>\n",
       "      <td>38525.16</td>\n",
       "      <td>1345.71985</td>\n",
       "      <td>51965954.03</td>\n",
       "      <td>26376.0</td>\n",
       "      <td>2022-05-02 23:00:00</td>\n",
       "    </tr>\n",
       "    <tr>\n",
       "      <th>2</th>\n",
       "      <td>1651528800000</td>\n",
       "      <td>5/2/2022 22:00</td>\n",
       "      <td>BTC/USDT</td>\n",
       "      <td>38639.67</td>\n",
       "      <td>38908.56</td>\n",
       "      <td>38572.32</td>\n",
       "      <td>38591.04</td>\n",
       "      <td>1390.19759</td>\n",
       "      <td>53800381.43</td>\n",
       "      <td>33463.0</td>\n",
       "      <td>2022-05-02 22:00:00</td>\n",
       "    </tr>\n",
       "    <tr>\n",
       "      <th>3</th>\n",
       "      <td>1651525200000</td>\n",
       "      <td>5/2/2022 21:00</td>\n",
       "      <td>BTC/USDT</td>\n",
       "      <td>38316.36</td>\n",
       "      <td>38770.00</td>\n",
       "      <td>38280.76</td>\n",
       "      <td>38639.67</td>\n",
       "      <td>1315.62981</td>\n",
       "      <td>50710273.88</td>\n",
       "      <td>38335.0</td>\n",
       "      <td>2022-05-02 21:00:00</td>\n",
       "    </tr>\n",
       "    <tr>\n",
       "      <th>4</th>\n",
       "      <td>1651521600000</td>\n",
       "      <td>5/2/2022 20:00</td>\n",
       "      <td>BTC/USDT</td>\n",
       "      <td>38563.39</td>\n",
       "      <td>38614.81</td>\n",
       "      <td>38305.06</td>\n",
       "      <td>38316.36</td>\n",
       "      <td>1096.86055</td>\n",
       "      <td>42162725.95</td>\n",
       "      <td>28051.0</td>\n",
       "      <td>2022-05-02 20:00:00</td>\n",
       "    </tr>\n",
       "  </tbody>\n",
       "</table>\n",
       "</div>"
      ],
      "text/plain": [
       "            unix            date    symbol      open      high       low  \\\n",
       "0  1651536000000   5/3/2022 0:00  BTC/USDT  38525.16  38573.82  38436.73   \n",
       "1  1651532400000  5/2/2022 23:00  BTC/USDT  38591.03  38747.46  38458.90   \n",
       "2  1651528800000  5/2/2022 22:00  BTC/USDT  38639.67  38908.56  38572.32   \n",
       "3  1651525200000  5/2/2022 21:00  BTC/USDT  38316.36  38770.00  38280.76   \n",
       "4  1651521600000  5/2/2022 20:00  BTC/USDT  38563.39  38614.81  38305.06   \n",
       "\n",
       "      close  Volume BTC  Volume USDT  tradecount               date2  \n",
       "0  38455.02   841.40670  32399830.13     19999.0 2022-05-03 00:00:00  \n",
       "1  38525.16  1345.71985  51965954.03     26376.0 2022-05-02 23:00:00  \n",
       "2  38591.04  1390.19759  53800381.43     33463.0 2022-05-02 22:00:00  \n",
       "3  38639.67  1315.62981  50710273.88     38335.0 2022-05-02 21:00:00  \n",
       "4  38316.36  1096.86055  42162725.95     28051.0 2022-05-02 20:00:00  "
      ]
     },
     "execution_count": 18,
     "metadata": {},
     "output_type": "execute_result"
    }
   ],
   "source": [
    "df.head()"
   ]
  },
  {
   "cell_type": "code",
   "execution_count": null,
   "id": "1e80f7e7",
   "metadata": {},
   "outputs": [],
   "source": []
  }
 ],
 "metadata": {
  "kernelspec": {
   "display_name": "Python 3 (ipykernel)",
   "language": "python",
   "name": "python3"
  },
  "language_info": {
   "codemirror_mode": {
    "name": "ipython",
    "version": 3
   },
   "file_extension": ".py",
   "mimetype": "text/x-python",
   "name": "python",
   "nbconvert_exporter": "python",
   "pygments_lexer": "ipython3",
   "version": "3.9.7"
  }
 },
 "nbformat": 4,
 "nbformat_minor": 5
}
