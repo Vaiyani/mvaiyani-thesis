{
 "cells": [
  {
   "cell_type": "code",
   "execution_count": 1,
   "id": "ebdfc99e",
   "metadata": {},
   "outputs": [],
   "source": [
    "import pandas as pd\n",
    "import math\n",
    "import matplotlib.pyplot as plt\n",
    "import keras_tuner as kt\n",
    "import numpy as np\n",
    "import tensorflow as tf\n",
    "from tqdm import tqdm\n",
    "from sklearn.preprocessing import MinMaxScaler\n",
    "from sklearn.metrics import mean_absolute_percentage_error, mean_squared_error, mean_absolute_error\n",
    "from tensorflow.keras.models import save_model, model_from_json, Sequential\n",
    "from tensorflow.keras.layers import Dense, LSTM, Dropout\n",
    "from tensorflow import keras\n",
    "from keras_tuner.tuners import RandomSearch\n",
    "from keras.models import load_model\n",
    "from keras_tuner.engine.hyperparameters import HyperParameters\n",
    "from typing import Union\n",
    "import warnings\n",
    "warnings.simplefilter(\"ignore\", UserWarning)"
   ]
  },
  {
   "cell_type": "code",
   "execution_count": 2,
   "id": "b9740fdf",
   "metadata": {},
   "outputs": [],
   "source": [
    "df = pd.read_csv('../data/cleaned_data_daily.csv')\n",
    "data = df['close'].values\n",
    "data = data.reshape(-1,1)"
   ]
  },
  {
   "cell_type": "code",
   "execution_count": 3,
   "id": "cc28a207",
   "metadata": {},
   "outputs": [],
   "source": [
    "def min_max_scale(train: np.array, val:np.array, test: np.array) -> Union[MinMaxScaler, np.array, np.array, np.array]:\n",
    "    \"\"\" Tranform the train and test data into min max scale of train data\"\"\"\n",
    "    scaler = MinMaxScaler()\n",
    "    scaler = scaler.fit(train)\n",
    "    train_normalized = scaler.transform(train)\n",
    "    test_normalized = scaler.transform(test)\n",
    "    val_normalized = scaler.transform(val)\n",
    "    return scaler, train_normalized, val_normalized, test_normalized\n",
    "\n",
    "def data_divider(data: np.array, threshold: int):\n",
    "    \"\"\" This functions divideds the data (close price) into 80 20 ration for test and train data \"\"\"\n",
    "    train_test_divider = int(len(data)*threshold)\n",
    "    training_data, testing_data = data[:train_test_divider], data[train_test_divider:]\n",
    "    return training_data, testing_data\n",
    "\n",
    "def sliding_window(data: [], window_length: int) -> Union[np.array, np.array]:\n",
    "    \"\"\" \n",
    "    This function creates a sliding window pattern from the data given and window length given.\n",
    "    For example:\n",
    "    Data = [[1],[2],[3],[4],[5],[6]]\n",
    "    sliding window = 2\n",
    "    X = [[[1],[2]],[[2],[3]],[[3],[4]],[[4],[5]]]\n",
    "    Y = [[3],[4],[5],[6]]\n",
    "    \n",
    "    \"\"\"\n",
    "    X = []\n",
    "    Y = []\n",
    "    for i in range(len(data) - window_length):\n",
    "        X.append(data[i: i+ window_length])\n",
    "        Y.append(data[i+window_length])\n",
    "    \n",
    "    return np.array(X), np.array(Y)\n",
    "\n",
    "def model_builder(hp):\n",
    "    \"\"\" Keras hyper paramter tuner model builder\"\"\"\n",
    "\n",
    "    np.random.seed(1234)\n",
    "    tf.random.set_seed(1234) \n",
    "    hp_activation = hp.Choice('activationfunc', ['relu', 'tanh', 'selu'])\n",
    "    hp_dropout = hp.Choice('dropout', values=[0.05, 0.1, 0.2])  \n",
    "    model = Sequential()\n",
    "    model.add(LSTM(hp.Int('first_layer_neurons', min_value=1, max_value=25, step=1), \n",
    "                   activation= hp_activation, return_sequences=True))\n",
    "    model.add(Dropout(hp_dropout))\n",
    "    model.add(LSTM(hp.Int('second_layer_neurons', min_value=1, max_value=25, step=1), activation= hp_activation))\n",
    "    model.add(Dense(1))\n",
    "    hp_learning_rate = hp.Choice('learning_rate', values=[1e-2, 1e-3, 1e-4])\n",
    "\n",
    "    model.compile(optimizer=hp.Choice('optimizer',['RMSProp', 'Adam', 'SGD', 'ADAMAX'] ),\n",
    "                  loss='mse',\n",
    "                  metrics='mse')\n",
    "    return model\n",
    "\n",
    "def show_best_hyperparamters(best_hps):\n",
    "    print('Best Hyper Parameters\\n')\n",
    "    print('Layer 1 neuron: ', best_hps.get('first_layer_neurons'))\n",
    "    print('Layer 2 neuron: ' , best_hps.get('second_layer_neurons'))\n",
    "    print('Activation Function: ', best_hps.get('activationfunc'))\n",
    "    print('learning_rate: ', best_hps.get('learning_rate'))\n",
    "    print('Dropout rate: ', best_hps.get('dropout'))\n",
    "    print('Optimizer: ', best_hps.get('optimizer'))\n",
    "    \n",
    "def calculate_metrics(test: np.ndarray, predict: np.ndarray) -> float:\n",
    "    \"\"\".\"\"\"\n",
    "#     print(f'RMSE: {mean_squared_error(test.flatten(), predict.flatten(), squared=False)}')\n",
    "    print(f'MSE: {mean_squared_error(test.flatten(), predict.flatten())}')\n",
    "    print(f'MAE: {mean_absolute_error(test.flatten(), predict.flatten())}')"
   ]
  },
  {
   "cell_type": "code",
   "execution_count": 4,
   "id": "a03dfd89",
   "metadata": {},
   "outputs": [],
   "source": [
    "lookback = 2\n",
    "train, test = data_divider(data, 0.8)\n",
    "# val, test = data_divider(test, 0.5)\n",
    "scaler, train_normalized, val_normalized, test_normalized = min_max_scale(train, test, test)\n",
    "x_train, y_train = sliding_window(train_normalized, lookback)\n",
    "x_val, y_val = sliding_window(val_normalized, lookback)\n",
    "x_test, y_test = sliding_window(test_normalized, lookback)"
   ]
  },
  {
   "cell_type": "code",
   "execution_count": 5,
   "id": "2d66ddca",
   "metadata": {},
   "outputs": [
    {
     "name": "stdout",
     "output_type": "stream",
     "text": [
      "INFO:tensorflow:Reloading Oracle from existing project my_dir\\keras-daily-lstm\\oracle.json\n",
      "INFO:tensorflow:Reloading Tuner from my_dir\\keras-daily-lstm\\tuner0.json\n",
      "INFO:tensorflow:Oracle triggered exit\n"
     ]
    }
   ],
   "source": [
    "tuner = kt.RandomSearch(model_builder, objective='val_mse', max_trials=30, directory='my_dir', project_name='keras-daily-lstm')\n",
    "stop_early = keras.callbacks.EarlyStopping(monitor='val_loss', patience=1)\n",
    "tuner.search(x_train, y_train, epochs=100, validation_split=0.2, callbacks=[stop_early])"
   ]
  },
  {
   "cell_type": "code",
   "execution_count": 6,
   "id": "d3a1c946-eef6-4fe1-8c98-2d057bd865c1",
   "metadata": {},
   "outputs": [
    {
     "name": "stdout",
     "output_type": "stream",
     "text": [
      "Best Hyper Parameters\n",
      "\n",
      "Layer 1 neuron:  7\n",
      "Layer 2 neuron:  6\n",
      "Activation Function:  tanh\n",
      "learning_rate:  0.001\n",
      "Dropout rate:  0.2\n",
      "Optimizer:  Adam\n"
     ]
    }
   ],
   "source": [
    "best_hps = tuner.get_best_hyperparameters()[0]\n",
    "show_best_hyperparamters(best_hps)"
   ]
  },
  {
   "cell_type": "code",
   "execution_count": 8,
   "id": "cb26b0c0-e47d-4296-87f4-ee94540a3dee",
   "metadata": {
    "scrolled": false
   },
   "outputs": [
    {
     "name": "stdout",
     "output_type": "stream",
     "text": [
      "Epoch 1/350\n",
      "43/43 [==============================] - 4s 4ms/step - loss: 0.0596 - mse: 0.0596    \n",
      "Epoch 2/350\n",
      "43/43 [==============================] - 0s 3ms/step - loss: 0.0496 - mse: 0.0496\n",
      "Epoch 3/350\n",
      "43/43 [==============================] - 0s 4ms/step - loss: 0.0463 - mse: 0.0463\n",
      "Epoch 4/350\n",
      "43/43 [==============================] - 0s 3ms/step - loss: 0.0444 - mse: 0.0444\n",
      "Epoch 5/350\n",
      "43/43 [==============================] - 0s 3ms/step - loss: 0.0418 - mse: 0.0418\n",
      "Epoch 6/350\n",
      "43/43 [==============================] - 0s 3ms/step - loss: 0.0388 - mse: 0.0388\n",
      "Epoch 7/350\n",
      "43/43 [==============================] - 0s 4ms/step - loss: 0.0361 - mse: 0.0361\n",
      "Epoch 8/350\n",
      "43/43 [==============================] - 0s 3ms/step - loss: 0.0314 - mse: 0.0314\n",
      "Epoch 9/350\n",
      "43/43 [==============================] - 0s 3ms/step - loss: 0.0265 - mse: 0.0265\n",
      "Epoch 10/350\n",
      "43/43 [==============================] - 0s 3ms/step - loss: 0.0212 - mse: 0.0212\n",
      "Epoch 11/350\n",
      "43/43 [==============================] - 0s 3ms/step - loss: 0.0156 - mse: 0.0156\n",
      "Epoch 12/350\n",
      "43/43 [==============================] - 0s 4ms/step - loss: 0.0095 - mse: 0.0095\n",
      "Epoch 13/350\n",
      "43/43 [==============================] - 0s 5ms/step - loss: 0.0061 - mse: 0.0061\n",
      "Epoch 14/350\n",
      "43/43 [==============================] - 0s 3ms/step - loss: 0.0035 - mse: 0.0035\n",
      "Epoch 15/350\n",
      "43/43 [==============================] - 0s 3ms/step - loss: 0.0023 - mse: 0.0023    \n",
      "Epoch 16/350\n",
      "43/43 [==============================] - 0s 3ms/step - loss: 0.0017 - mse: 0.0017    \n",
      "Epoch 17/350\n",
      "43/43 [==============================] - 0s 4ms/step - loss: 0.0017 - mse: 0.0017   \n"
     ]
    }
   ],
   "source": [
    "# Build the model with the best hp.\n",
    "model = model_builder(best_hps)\n",
    "### train it ###\n",
    "stop_training_early = keras.callbacks.EarlyStopping(monitor=\"loss\", patience = 1)\n",
    "history = model.fit(x_train, y_train, epochs=350 , verbose=1, shuffle=False, callbacks=[stop_training_early])"
   ]
  },
  {
   "cell_type": "code",
   "execution_count": 9,
   "id": "4ed99741-d1f2-4176-a69d-d262f1c6f3fc",
   "metadata": {},
   "outputs": [
    {
     "data": {
      "text/plain": [
       "<matplotlib.legend.Legend at 0x1f7947a84f0>"
      ]
     },
     "execution_count": 9,
     "metadata": {},
     "output_type": "execute_result"
    },
    {
     "data": {
      "image/png": "[encoded data removed]",
      "text/plain": [
       "<Figure size 432x288 with 1 Axes>"
      ]
     },
     "metadata": {
      "needs_background": "light"
     },
     "output_type": "display_data"
    }
   ],
   "source": [
    "plt.plot(history.history['loss'], label='train loss')\n",
    "# plt.plot(history.history['val_loss'], label='validation loss')\n",
    "plt.legend()"
   ]
  },
  {
   "cell_type": "code",
   "execution_count": 11,
   "id": "c24c7cde-0d86-4b96-bf6f-c229eb235023",
   "metadata": {},
   "outputs": [],
   "source": [
    "# model = load_model('saved_model/LSTM_daily')\n",
    "# model.save('saved_model/LSTM_daily')\n",
    "# model.summary()"
   ]
  },
  {
   "cell_type": "markdown",
   "id": "47d6abba",
   "metadata": {},
   "source": [
    "## Prediction"
   ]
  },
  {
   "cell_type": "code",
   "execution_count": 13,
   "id": "a52a2673-57ef-4ff4-95ae-eb9203e38c96",
   "metadata": {},
   "outputs": [
    {
     "name": "stdout",
     "output_type": "stream",
     "text": [
      "11/11 [==============================] - 1s 2ms/step\n"
     ]
    }
   ],
   "source": [
    "y_predict = model.predict(x_val)"
   ]
  },
  {
   "cell_type": "code",
   "execution_count": 14,
   "id": "03560e03-acd2-4923-ab57-314c74958c1e",
   "metadata": {},
   "outputs": [
    {
     "data": {
      "text/plain": [
       "<matplotlib.legend.Legend at 0x1f7b01f6f40>"
      ]
     },
     "execution_count": 14,
     "metadata": {},
     "output_type": "execute_result"
    },
    {
     "data": {
      "image/png": "[encoded data removed]",
      "text/plain": [
       "<Figure size 432x288 with 1 Axes>"
      ]
     },
     "metadata": {
      "needs_background": "light"
     },
     "output_type": "display_data"
    }
   ],
   "source": [
    "plt.plot(y_val.flatten(), label='test')\n",
    "plt.plot(y_predict.flatten(), 'r-', label='predict')\n",
    "plt.legend()"
   ]
  },
  {
   "cell_type": "code",
   "execution_count": 15,
   "id": "ffeef65c-5ead-4070-a5aa-8dd47bb543c4",
   "metadata": {},
   "outputs": [
    {
     "name": "stdout",
     "output_type": "stream",
     "text": [
      "MSE: 0.0011017206563439215\n",
      "MAE: 0.025494885752965664\n"
     ]
    }
   ],
   "source": [
    "calculate_metrics(y_test, y_predict)"
   ]
  },
  {
   "cell_type": "markdown",
   "id": "6cb03cf9",
   "metadata": {},
   "source": [
    "## WALK OVER PREDICTION\n"
   ]
  },
  {
   "cell_type": "code",
   "execution_count": null,
   "id": "c25fba99",
   "metadata": {},
   "outputs": [],
   "source": [
    "# predictions = []\n",
    "# predictions_inversed = []\n",
    "# history = train_normalized\n",
    "# for i in tqdm(test_normalized):\n",
    "#     history = history[-lookback:] \n",
    "#     ## new axis because 3D is expected as input ##\n",
    "#     prediction = model.predict(history[np.newaxis,:,:], verbose = 0)\n",
    "#     predictions_inversed.append(float(scaler.inverse_transform(prediction)))\n",
    "#     predictions.append(float(prediction))\n",
    "#     ## a square bracket to match dimension at individual level ##\n",
    "#     history = np.append(history, [i], axis=0)"
   ]
  },
  {
   "cell_type": "code",
   "execution_count": null,
   "id": "398ce9fd",
   "metadata": {},
   "outputs": [],
   "source": [
    "# print(f'RMSE: {mean_squared_error(predictions, test_normalized.flatten(), squared=False)}')\n",
    "# print(f'RMSE: {mean_squared_error(predictions_inversed, test, squared=False)}')"
   ]
  },
  {
   "cell_type": "code",
   "execution_count": null,
   "id": "7b8db056",
   "metadata": {},
   "outputs": [],
   "source": [
    "# plt.plot(test, label='test')\n",
    "# plt.plot(predictions_inversed, 'r-', label='predict')\n",
    "# # plt.legend()"
   ]
  },
  {
   "cell_type": "code",
   "execution_count": null,
   "id": "06fbf4a7",
   "metadata": {},
   "outputs": [],
   "source": []
  }
 ],
 "metadata": {
  "environment": {
   "kernel": "python3",
   "name": "tf2-gpu.2-9.m94",
   "type": "gcloud",
   "uri": "gcr.io/deeplearning-platform-release/tf2-gpu.2-9:m94"
  },
  "kernelspec": {
   "display_name": "Python 3 (ipykernel)",
   "language": "python",
   "name": "python3"
  },
  "language_info": {
   "codemirror_mode": {
    "name": "ipython",
    "version": 3
   },
   "file_extension": ".py",
   "mimetype": "text/x-python",
   "name": "python",
   "nbconvert_exporter": "python",
   "pygments_lexer": "ipython3",
   "version": "3.9.12"
  }
 },
 "nbformat": 4,
 "nbformat_minor": 5
}
