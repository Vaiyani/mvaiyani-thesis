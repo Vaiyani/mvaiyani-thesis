{
 "cells": [
  {
   "cell_type": "code",
   "execution_count": 1,
   "id": "ebdfc99e",
   "metadata": {},
   "outputs": [],
   "source": [
    "import pandas as pd\n",
    "import math\n",
    "import matplotlib.pyplot as plt\n",
    "import keras_tuner as kt\n",
    "import numpy as np\n",
    "import tensorflow as tf\n",
    "import plotly.express as px\n",
    "import plotly.graph_objects as go\n",
    "from tqdm import tqdm\n",
    "from sklearn.preprocessing import MinMaxScaler\n",
    "from sklearn.metrics import mean_absolute_percentage_error, mean_squared_error, mean_absolute_error\n",
    "from tensorflow.keras.models import save_model, model_from_json, Sequential\n",
    "from tensorflow.keras.layers import Dense, LSTM, Dropout\n",
    "from tensorflow import keras\n",
    "from keras_tuner.tuners import RandomSearch\n",
    "from keras.models import load_model\n",
    "from keras_tuner.engine.hyperparameters import HyperParameters\n",
    "from typing import Union\n",
    "import warnings\n",
    "warnings.simplefilter(\"ignore\", UserWarning)"
   ]
  },
  {
   "cell_type": "code",
   "execution_count": 13,
   "id": "b9740fdf",
   "metadata": {},
   "outputs": [],
   "source": [
    "df = pd.read_csv('../data/cleaned_data_daily.csv')\n",
    "data = df['close'].values\n",
    "data = data.reshape(-1,1)"
   ]
  },
  {
   "cell_type": "code",
   "execution_count": 42,
   "id": "cc28a207",
   "metadata": {},
   "outputs": [],
   "source": [
    "def min_max_scale(train: np.array, val:np.array, test: np.array) -> Union[MinMaxScaler, np.array, np.array, np.array]:\n",
    "    \"\"\" Tranform the train and test data into min max scale of train data\"\"\"\n",
    "    scaler = MinMaxScaler()\n",
    "    scaler = scaler.fit(train)\n",
    "    train_normalized = scaler.transform(train)\n",
    "    test_normalized = scaler.transform(test)\n",
    "    val_normalized = scaler.transform(val)\n",
    "    return scaler, train_normalized, val_normalized, test_normalized\n",
    "\n",
    "def data_divider(data: np.array, threshold: int):\n",
    "    \"\"\" This functions divideds the data (close price) into 80 20 ration for test and train data \"\"\"\n",
    "    train_test_divider = int(len(data)*threshold)\n",
    "    training_data, testing_data = data[:train_test_divider], data[train_test_divider:]\n",
    "    return training_data, testing_data\n",
    "\n",
    "def sliding_window(data: [], window_length: int) -> Union[np.array, np.array]:\n",
    "    \"\"\" \n",
    "    This function creates a sliding window pattern from the data given and window length given.\n",
    "    For example:\n",
    "    Data = [[1],[2],[3],[4],[5],[6]]\n",
    "    sliding window = 2\n",
    "    X = [[[1],[2]],[[2],[3]],[[3],[4]],[[4],[5]]]\n",
    "    Y = [[3],[4],[5],[6]]\n",
    "    \n",
    "    \"\"\"\n",
    "    X = []\n",
    "    Y = []\n",
    "    for i in range(len(data) - window_length):\n",
    "        X.append(data[i: i+ window_length])\n",
    "        Y.append(data[i+window_length])\n",
    "    \n",
    "    return np.array(X), np.array(Y)\n",
    "\n",
    "def model_builder(hp):\n",
    "    \"\"\" Keras hyper paramter tuner model builder\"\"\"\n",
    "\n",
    "#     np.random.seed(1234)\n",
    "#     tf.random.set_seed(1234) \n",
    "    hp_activation = hp.Choice('activationfunc', ['relu', 'tanh', 'selu'])\n",
    "    hp_dropout = hp.Choice('dropout', values=[0.05, 0.1, 0.2])  \n",
    "    model = Sequential()\n",
    "    model.add(LSTM(hp.Int('first_layer_neurons', min_value=1, max_value=25, step=1), \n",
    "                   activation= hp_activation, return_sequences=True))\n",
    "    model.add(Dropout(hp_dropout))\n",
    "    model.add(LSTM(hp.Int('second_layer_neurons', min_value=1, max_value=25, step=1), activation= hp_activation))\n",
    "    model.add(Dense(1))\n",
    "    hp_learning_rate = hp.Choice('learning_rate', values=[1e-2, 1e-3, 1e-4])\n",
    "\n",
    "    model.compile(optimizer=hp.Choice('optimizer',['RMSProp', 'Adam', 'SGD', 'ADAMAX'] ),\n",
    "                  loss='mse',\n",
    "                  metrics='mse')\n",
    "    return model\n",
    "\n",
    "def show_best_hyperparamters(best_hps):\n",
    "    print('Best Hyper Parameters\\n')\n",
    "    print('Layer 1 neuron: ', best_hps.get('first_layer_neurons'))\n",
    "    print('Layer 2 neuron: ' , best_hps.get('second_layer_neurons'))\n",
    "    print('Activation Function: ', best_hps.get('activationfunc'))\n",
    "    print('learning_rate: ', best_hps.get('learning_rate'))\n",
    "    print('Dropout rate: ', best_hps.get('dropout'))\n",
    "    print('Optimizer: ', best_hps.get('optimizer'))\n",
    "    \n",
    "def calculate_metrics(test: np.ndarray, predict: np.ndarray) -> float:\n",
    "    \"\"\".\"\"\"\n",
    "#     print(f'RMSE: {mean_squared_error(test.flatten(), predict.flatten(), squared=False)}')\n",
    "    rmse = mean_squared_error(test.flatten(), predict.flatten(), squared=False)\n",
    "    mse = mean_squared_error(test.flatten(), predict.flatten())\n",
    "    mae = mean_absolute_error(test.flatten(), predict.flatten())\n",
    "    print(f'RMSE: {rmse}')\n",
    "    print(f'MSE: {mse}')\n",
    "    print(f'MAE: {mae}')\n",
    "    with open(\"copy.txt\", \"a\") as file:\n",
    "        file.write(f' looback period {lookback}: rmse: {rmse}, mse: {mse}, mae:{mae} \\n')\n",
    "    "
   ]
  },
  {
   "cell_type": "code",
   "execution_count": 30,
   "id": "a03dfd89",
   "metadata": {},
   "outputs": [],
   "source": [
    "lookback = 2\n",
    "train, test = data_divider(data, 0.8)\n",
    "val, test = data_divider(test, 0.5)\n",
    "scaler, train_normalized, val_normalized, test_normalized = min_max_scale(train, test, test)\n",
    "x_train, y_train = sliding_window(train_normalized, lookback)\n",
    "x_val, y_val = sliding_window(val_normalized, lookback)\n",
    "x_test, y_test = sliding_window(test_normalized, lookback)"
   ]
  },
  {
   "cell_type": "code",
   "execution_count": 31,
   "id": "2d66ddca",
   "metadata": {},
   "outputs": [
    {
     "name": "stdout",
     "output_type": "stream",
     "text": [
      "INFO:tensorflow:Reloading Oracle from existing project my_dir\\keras-daily-lstm\\oracle.json\n",
      "INFO:tensorflow:Reloading Tuner from my_dir\\keras-daily-lstm\\tuner0.json\n",
      "INFO:tensorflow:Oracle triggered exit\n"
     ]
    }
   ],
   "source": [
    "tuner = kt.RandomSearch(model_builder, objective='val_mse', max_trials=30, directory='my_dir', project_name='keras-daily-lstm')\n",
    "stop_early = keras.callbacks.EarlyStopping(monitor='val_loss', patience=1)\n",
    "tuner.search(x_train, y_train, epochs=100, validation_split=0.2, callbacks=[stop_early])"
   ]
  },
  {
   "cell_type": "code",
   "execution_count": 32,
   "id": "d3a1c946-eef6-4fe1-8c98-2d057bd865c1",
   "metadata": {},
   "outputs": [
    {
     "name": "stdout",
     "output_type": "stream",
     "text": [
      "Best Hyper Parameters\n",
      "\n",
      "Layer 1 neuron:  7\n",
      "Layer 2 neuron:  6\n",
      "Activation Function:  tanh\n",
      "learning_rate:  0.001\n",
      "Dropout rate:  0.2\n",
      "Optimizer:  Adam\n"
     ]
    }
   ],
   "source": [
    "best_hps = tuner.get_best_hyperparameters()[0]\n",
    "show_best_hyperparamters(best_hps)"
   ]
  },
  {
   "cell_type": "code",
   "execution_count": 33,
   "id": "cb26b0c0-e47d-4296-87f4-ee94540a3dee",
   "metadata": {
    "scrolled": false
   },
   "outputs": [
    {
     "name": "stdout",
     "output_type": "stream",
     "text": [
      "Epoch 1/350\n",
      "43/43 [==============================] - 6s 23ms/step - loss: 0.0425 - mse: 0.0425 - val_loss: 0.2744 - val_mse: 0.2744\n",
      "Epoch 2/350\n",
      "43/43 [==============================] - 0s 4ms/step - loss: 0.0360 - mse: 0.0360 - val_loss: 0.2274 - val_mse: 0.2274\n",
      "Epoch 3/350\n",
      "43/43 [==============================] - 0s 4ms/step - loss: 0.0340 - mse: 0.0340 - val_loss: 0.2004 - val_mse: 0.2004\n",
      "Epoch 4/350\n",
      "43/43 [==============================] - 0s 4ms/step - loss: 0.0324 - mse: 0.0324 - val_loss: 0.1787 - val_mse: 0.1787\n",
      "Epoch 5/350\n",
      "43/43 [==============================] - 0s 4ms/step - loss: 0.0289 - mse: 0.0289 - val_loss: 0.1575 - val_mse: 0.1575\n",
      "Epoch 6/350\n",
      "43/43 [==============================] - 0s 4ms/step - loss: 0.0257 - mse: 0.0257 - val_loss: 0.1347 - val_mse: 0.1347\n",
      "Epoch 7/350\n",
      "43/43 [==============================] - 0s 4ms/step - loss: 0.0222 - mse: 0.0222 - val_loss: 0.1101 - val_mse: 0.1101\n",
      "Epoch 8/350\n",
      "43/43 [==============================] - 0s 6ms/step - loss: 0.0187 - mse: 0.0187 - val_loss: 0.0845 - val_mse: 0.0845\n",
      "Epoch 9/350\n",
      "43/43 [==============================] - 0s 5ms/step - loss: 0.0136 - mse: 0.0136 - val_loss: 0.0594 - val_mse: 0.0594\n",
      "Epoch 10/350\n",
      "43/43 [==============================] - 0s 4ms/step - loss: 0.0101 - mse: 0.0101 - val_loss: 0.0371 - val_mse: 0.0371\n",
      "Epoch 11/350\n",
      "43/43 [==============================] - 0s 4ms/step - loss: 0.0055 - mse: 0.0055 - val_loss: 0.0196 - val_mse: 0.0196\n",
      "Epoch 12/350\n",
      "43/43 [==============================] - 0s 4ms/step - loss: 0.0040 - mse: 0.0040 - val_loss: 0.0090 - val_mse: 0.0090\n",
      "Epoch 13/350\n",
      "43/43 [==============================] - 0s 4ms/step - loss: 0.0029 - mse: 0.0029 - val_loss: 0.0030 - val_mse: 0.0030\n",
      "Epoch 14/350\n",
      "43/43 [==============================] - 0s 4ms/step - loss: 0.0024 - mse: 0.0024 - val_loss: 0.0013 - val_mse: 0.0013\n",
      "Epoch 15/350\n",
      "43/43 [==============================] - 0s 4ms/step - loss: 0.0024 - mse: 0.0024 - val_loss: 9.9490e-04 - val_mse: 9.9490e-04\n",
      "Epoch 16/350\n",
      "43/43 [==============================] - 0s 4ms/step - loss: 0.0017 - mse: 0.0017 - val_loss: 9.8613e-04 - val_mse: 9.8613e-04\n",
      "Epoch 17/350\n",
      "43/43 [==============================] - 0s 4ms/step - loss: 0.0020 - mse: 0.0020 - val_loss: 9.1257e-04 - val_mse: 9.1257e-04\n",
      "Epoch 18/350\n",
      "43/43 [==============================] - 0s 4ms/step - loss: 0.0016 - mse: 0.0016 - val_loss: 9.2023e-04 - val_mse: 9.2023e-04\n"
     ]
    }
   ],
   "source": [
    "# Build the model with the best hp.\n",
    "model = model_builder(best_hps)\n",
    "### train it ###\n",
    "stop_training_early = keras.callbacks.EarlyStopping(patience = 1)\n",
    "history = model.fit(x_train, y_train, epochs=350 , verbose=1, shuffle=False, validation_data=(x_val, y_val), callbacks=[stop_training_early])"
   ]
  },
  {
   "cell_type": "code",
   "execution_count": 34,
   "id": "4ed99741-d1f2-4176-a69d-d262f1c6f3fc",
   "metadata": {},
   "outputs": [
    {
     "data": {
      "text/plain": [
       "<matplotlib.legend.Legend at 0x1f0659a6100>"
      ]
     },
     "execution_count": 34,
     "metadata": {},
     "output_type": "execute_result"
    },
    {
     "data": {
      "image/png": "[encoded data removed]",
      "text/plain": [
       "<Figure size 432x288 with 1 Axes>"
      ]
     },
     "metadata": {
      "needs_background": "light"
     },
     "output_type": "display_data"
    }
   ],
   "source": [
    "plt.plot(history.history['loss'], label='train loss')\n",
    "plt.plot(history.history['val_loss'], label='validation loss')\n",
    "plt.legend()"
   ]
  },
  {
   "cell_type": "code",
   "execution_count": 35,
   "id": "c24c7cde-0d86-4b96-bf6f-c229eb235023",
   "metadata": {},
   "outputs": [],
   "source": [
    "# model = load_model('saved_model/LSTM_daily')\n",
    "# model.save('saved_model/LSTM_daily')\n",
    "# model.summary()"
   ]
  },
  {
   "cell_type": "markdown",
   "id": "47d6abba",
   "metadata": {},
   "source": [
    "## Prediction"
   ]
  },
  {
   "cell_type": "code",
   "execution_count": 36,
   "id": "a52a2673-57ef-4ff4-95ae-eb9203e38c96",
   "metadata": {},
   "outputs": [
    {
     "name": "stdout",
     "output_type": "stream",
     "text": [
      "6/6 [==============================] - 1s 3ms/step\n"
     ]
    }
   ],
   "source": [
    "y_predict = model.predict(x_test)"
   ]
  },
  {
   "cell_type": "code",
   "execution_count": 37,
   "id": "03560e03-acd2-4923-ab57-314c74958c1e",
   "metadata": {},
   "outputs": [],
   "source": [
    "# plt.plot(y_test.flatten(), label='test')\n",
    "# plt.plot(y_predict.flatten(), 'r-', label='predict')\n",
    "# plt.legend()"
   ]
  },
  {
   "cell_type": "code",
   "execution_count": 38,
   "id": "965cac16",
   "metadata": {},
   "outputs": [
    {
     "data": {
      "application/vnd.plotly.v1+json": {
       "config": {
        "plotlyServerURL": "https://plot.ly"
       },
       "data": [
        {
         "name": "Actual",
         "type": "scatter",
         "y": [
          1.032194559068181,
          1.0005256186949354,
          0.941772411410728,
          0.9465086101111548,
          0.8893223228305642,
          0.9085423470812263,
          0.9359538422660358,
          0.917977980981678,
          0.8786503092274066,
          0.9000806147387189,
          0.8934072114090057,
          0.9235809371645536,
          0.8369080041426833,
          0.853377058714622,
          0.8956691602918424,
          0.9039719153353144,
          0.8902983772060996,
          0.8941653344037803,
          0.8825114703777266,
          0.8348300383632093,
          0.7611609515983676,
          0.7651993061965707,
          0.7825144180818129,
          0.7849492547773504,
          0.7829991332425175,
          0.734550801361508,
          0.7278431185516903,
          0.7650943149386661,
          0.7760887543764297,
          0.7205932569116208,
          0.7477606557018698,
          0.7564000782963197,
          0.735988055505599,
          0.7111283115716593,
          0.7227747235368209,
          0.7202368827996167,
          0.724094235118814,
          0.7568124256656924,
          0.7518159016380954,
          0.7890869701874507,
          0.7887754740421534,
          0.7818145867633512,
          0.7880383824192303,
          0.7868121043990673,
          0.734520165111173,
          0.716650454294192,
          0.727517380690021,
          0.7125480119723153,
          0.7374829389205905,
          0.7302549366591383,
          0.7163430981827237,
          0.7061736846864123,
          0.666745989714831,
          0.6606382806075184,
          0.6355359306911968,
          0.6374115316171071,
          0.640473169434362,
          0.6397754909334914,
          0.6547922216382014,
          0.6742233876141448,
          0.6519905779454104,
          0.6602681615832018,
          0.6606710696754444,
          0.6604619151664012,
          0.6460539350359139,
          0.6485462354009986,
          0.6370848001473189,
          0.6208707716592493,
          0.550728662514047,
          0.5279768582045037,
          0.5474040497479713,
          0.5542897540124379,
          0.5592241775325993,
          0.5567570485731952,
          0.5625656816366976,
          0.5717807345347379,
          0.5792374322649063,
          0.5745164688889706,
          0.5842064664678788,
          0.5879770436780192,
          0.558198111548409,
          0.5650747077384518,
          0.6356646029426034,
          0.6324906874079048,
          0.6490223392913388,
          0.6731855639338798,
          0.6765472714030639,
          0.6820076448208673,
          0.667479769310691,
          0.6489040999251813,
          0.6463230372348018,
          0.6436036974145323,
          0.6515903194748184,
          0.6848583065141941,
          0.6737414876764439,
          0.6181348717036635,
          0.6091715328624293,
          0.6109058758340925,
          0.5828814900412314,
          0.5600495346767577,
          0.5802888352561306,
          0.5640546034029753,
          0.5818931811655619,
          0.5966641594621797,
          0.5949675735990373,
          0.571491097768058,
          0.6619248375202322,
          0.6828104801809955,
          0.6740630855042842,
          0.6502333819870108,
          0.5954965043210361,
          0.5996249460553591,
          0.583443209831156,
          0.5762758176649612,
          0.5885738709548142,
          0.6417497902658861,
          0.60002305170836,
          0.5885563172113791,
          0.5898445301376246,
          0.5727872595592551,
          0.6041526526521553,
          0.5976769773381172,
          0.6280428006633326,
          0.6247953581278303,
          0.6386994133406462,
          0.6460458205696089,
          0.6304955223050117,
          0.6261922055417498,
          0.6487451226261458,
          0.6573337056051751,
          0.6756939276302213,
          0.6810213231614358,
          0.6843020515689237,
          0.7226634394274962,
          0.7275395712713446,
          0.7327161039698287,
          0.7266416807345015,
          0.7008467859592573,
          0.71365025457896,
          0.7058257562434193,
          0.7157013929392219,
          0.7185689459705712,
          0.7006349818285634,
          0.6620982221369927,
          0.6666310623757368,
          0.6468884002544961,
          0.6552009257778046,
          0.6453456580484409,
          0.6018189983833995,
          0.6108358264617051,
          0.6286023676356663,
          0.6086406149241925,
          0.6187343486021092,
          0.6158662987667004,
          0.6042644335655395,
          0.6228616311269601,
          0.634322072772521,
          0.6320866201061901,
          0.6175438404742292,
          0.6047787913684599,
          0.600347630360557,
          0.6004888883148041,
          0.6166507523766277,
          0.5783400385321228,
          0.5969382297016624,
          0.605323454219009,
          0.5863462015520821,
          0.5703605373300226,
          0.5842304786640872,
          0.5851712599513993,
          0.5840097320603225
         ]
        },
        {
         "name": "Predict",
         "type": "scatter",
         "y": [
          0.9817648530006409,
          0.9889019131660461,
          0.9925424456596375,
          0.9587177634239197,
          0.9235047101974487,
          0.9113627672195435,
          0.8800737261772156,
          0.8997288346290588,
          0.9123427271842957,
          0.8903324604034424,
          0.870883047580719,
          0.8828793168067932,
          0.8867564797401428,
          0.8824159502983093,
          0.8305764198303223,
          0.8532456755638123,
          0.8829160332679749,
          0.8845318555831909,
          0.8767890930175781,
          0.8760908842086792,
          0.8552449345588684,
          0.8023665547370911,
          0.7538363933563232,
          0.7618083357810974,
          0.7742727398872375,
          0.7753363251686096,
          0.7593767046928406,
          0.7241652607917786,
          0.7310246825218201,
          0.7598037719726562,
          0.7503883838653564,
          0.7207202315330505,
          0.7420125603675842,
          0.7416700124740601,
          0.7199560403823853,
          0.7064363360404968,
          0.7136873602867126,
          0.7131384015083313,
          0.7259134650230408,
          0.7467995882034302,
          0.7546825408935547,
          0.7798532247543335,
          0.7775679230690002,
          0.7747216820716858,
          0.7785608172416687,
          0.7619597315788269,
          0.7206663489341736,
          0.7117292284965515,
          0.7145596146583557,
          0.7119957804679871,
          0.7269284129142761,
          0.7176318764686584,
          0.7048435807228088,
          0.6853026151657104,
          0.6558415293693542,
          0.6434339880943298,
          0.62642502784729,
          0.6287413239479065,
          0.6306641697883606,
          0.6350570321083069,
          0.6518532633781433,
          0.6582807898521423,
          0.6453935503959656,
          0.6513198018074036,
          0.6515341401100159,
          0.6467269062995911,
          0.6374344229698181,
          0.6354551315307617,
          0.6221020817756653,
          0.5874176025390625,
          0.5301864147186279,
          0.5206788778305054,
          0.536704957485199,
          0.5432242751121521,
          0.5458807945251465,
          0.5460878014564514,
          0.5532764792442322,
          0.5622753500938416,
          0.56596440076828,
          0.565864622592926,
          0.5739609599113464,
          0.5666784048080444,
          0.5479466319084167,
          0.5762572884559631,
          0.6249082088470459,
          0.6280695199966431,
          0.6474815011024475,
          0.6654523611068726,
          0.6695441603660583,
          0.6687032580375671,
          0.6525650024414062,
          0.6387116312980652,
          0.6360170245170593,
          0.6367037892341614,
          0.6530275940895081,
          0.6726970076560974,
          0.6469491124153137,
          0.6049144268035889,
          0.5991707444190979,
          0.5911105275154114,
          0.5636983513832092,
          0.5543444752693176,
          0.5632081627845764,
          0.5577073693275452,
          0.5752168297767639,
          0.5850759148597717,
          0.5760632753372192,
          0.5893869996070862,
          0.6595944166183472,
          0.6713720560073853,
          0.6576011180877686,
          0.6230058670043945,
          0.5857968926429749,
          0.5833355784416199,
          0.5695219039916992,
          0.5685617327690125,
          0.5948076844215393,
          0.6185280680656433,
          0.5853168368339539,
          0.5776525735855103,
          0.5728780031204224,
          0.5712782740592957,
          0.5912572145462036,
          0.5967174172401428,
          0.617029070854187,
          0.6192964911460876,
          0.6314604878425598,
          0.6315501928329468,
          0.6192124485969543,
          0.623555064201355,
          0.6421703696250916,
          0.6541033387184143,
          0.668633759021759,
          0.6733953356742859,
          0.6878185868263245,
          0.7158842086791992,
          0.7208505272865295,
          0.7225301265716553,
          0.710290253162384,
          0.6964625120162964,
          0.7028711438179016,
          0.7005549073219299,
          0.7082827687263489,
          0.704642653465271,
          0.6799620985984802,
          0.6545212864875793,
          0.6513182520866394,
          0.6401780843734741,
          0.6428099274635315,
          0.621650755405426,
          0.5939651131629944,
          0.6061680912971497,
          0.612112283706665,
          0.6013773679733276,
          0.6075428128242493,
          0.6016958951950073,
          0.5996533036231995,
          0.6165053844451904,
          0.6238324642181396,
          0.6174941062927246,
          0.6030480861663818,
          0.5925834774971008,
          0.5895050168037415,
          0.5949468612670898,
          0.5936541557312012,
          0.5728005766868591,
          0.5887013077735901,
          0.5883227586746216,
          0.5695964694023132,
          0.5629387497901917,
          0.5730437636375427
         ]
        }
       ],
       "layout": {
        "template": {
         "data": {
          "bar": [
           {
            "error_x": {
             "color": "#2a3f5f"
            },
            "error_y": {
             "color": "#2a3f5f"
            },
            "marker": {
             "line": {
              "color": "#E5ECF6",
              "width": 0.5
             },
             "pattern": {
              "fillmode": "overlay",
              "size": 10,
              "solidity": 0.2
             }
            },
            "type": "bar"
           }
          ],
          "barpolar": [
           {
            "marker": {
             "line": {
              "color": "#E5ECF6",
              "width": 0.5
             },
             "pattern": {
              "fillmode": "overlay",
              "size": 10,
              "solidity": 0.2
             }
            },
            "type": "barpolar"
           }
          ],
          "carpet": [
           {
            "aaxis": {
             "endlinecolor": "#2a3f5f",
             "gridcolor": "white",
             "linecolor": "white",
             "minorgridcolor": "white",
             "startlinecolor": "#2a3f5f"
            },
            "baxis": {
             "endlinecolor": "#2a3f5f",
             "gridcolor": "white",
             "linecolor": "white",
             "minorgridcolor": "white",
             "startlinecolor": "#2a3f5f"
            },
            "type": "carpet"
           }
          ],
          "choropleth": [
           {
            "colorbar": {
             "outlinewidth": 0,
             "ticks": ""
            },
            "type": "choropleth"
           }
          ],
          "contour": [
           {
            "colorbar": {
             "outlinewidth": 0,
             "ticks": ""
            },
            "colorscale": [
             [
              0,
              "#0d0887"
             ],
             [
              0.1111111111111111,
              "#46039f"
             ],
             [
              0.2222222222222222,
              "#7201a8"
             ],
             [
              0.3333333333333333,
              "#9c179e"
             ],
             [
              0.4444444444444444,
              "#bd3786"
             ],
             [
              0.5555555555555556,
              "#d8576b"
             ],
             [
              0.6666666666666666,
              "#ed7953"
             ],
             [
              0.7777777777777778,
              "#fb9f3a"
             ],
             [
              0.8888888888888888,
              "#fdca26"
             ],
             [
              1,
              "#f0f921"
             ]
            ],
            "type": "contour"
           }
          ],
          "contourcarpet": [
           {
            "colorbar": {
             "outlinewidth": 0,
             "ticks": ""
            },
            "type": "contourcarpet"
           }
          ],
          "heatmap": [
           {
            "colorbar": {
             "outlinewidth": 0,
             "ticks": ""
            },
            "colorscale": [
             [
              0,
              "#0d0887"
             ],
             [
              0.1111111111111111,
              "#46039f"
             ],
             [
              0.2222222222222222,
              "#7201a8"
             ],
             [
              0.3333333333333333,
              "#9c179e"
             ],
             [
              0.4444444444444444,
              "#bd3786"
             ],
             [
              0.5555555555555556,
              "#d8576b"
             ],
             [
              0.6666666666666666,
              "#ed7953"
             ],
             [
              0.7777777777777778,
              "#fb9f3a"
             ],
             [
              0.8888888888888888,
              "#fdca26"
             ],
             [
              1,
              "#f0f921"
             ]
            ],
            "type": "heatmap"
           }
          ],
          "heatmapgl": [
           {
            "colorbar": {
             "outlinewidth": 0,
             "ticks": ""
            },
            "colorscale": [
             [
              0,
              "#0d0887"
             ],
             [
              0.1111111111111111,
              "#46039f"
             ],
             [
              0.2222222222222222,
              "#7201a8"
             ],
             [
              0.3333333333333333,
              "#9c179e"
             ],
             [
              0.4444444444444444,
              "#bd3786"
             ],
             [
              0.5555555555555556,
              "#d8576b"
             ],
             [
              0.6666666666666666,
              "#ed7953"
             ],
             [
              0.7777777777777778,
              "#fb9f3a"
             ],
             [
              0.8888888888888888,
              "#fdca26"
             ],
             [
              1,
              "#f0f921"
             ]
            ],
            "type": "heatmapgl"
           }
          ],
          "histogram": [
           {
            "marker": {
             "pattern": {
              "fillmode": "overlay",
              "size": 10,
              "solidity": 0.2
             }
            },
            "type": "histogram"
           }
          ],
          "histogram2d": [
           {
            "colorbar": {
             "outlinewidth": 0,
             "ticks": ""
            },
            "colorscale": [
             [
              0,
              "#0d0887"
             ],
             [
              0.1111111111111111,
              "#46039f"
             ],
             [
              0.2222222222222222,
              "#7201a8"
             ],
             [
              0.3333333333333333,
              "#9c179e"
             ],
             [
              0.4444444444444444,
              "#bd3786"
             ],
             [
              0.5555555555555556,
              "#d8576b"
             ],
             [
              0.6666666666666666,
              "#ed7953"
             ],
             [
              0.7777777777777778,
              "#fb9f3a"
             ],
             [
              0.8888888888888888,
              "#fdca26"
             ],
             [
              1,
              "#f0f921"
             ]
            ],
            "type": "histogram2d"
           }
          ],
          "histogram2dcontour": [
           {
            "colorbar": {
             "outlinewidth": 0,
             "ticks": ""
            },
            "colorscale": [
             [
              0,
              "#0d0887"
             ],
             [
              0.1111111111111111,
              "#46039f"
             ],
             [
              0.2222222222222222,
              "#7201a8"
             ],
             [
              0.3333333333333333,
              "#9c179e"
             ],
             [
              0.4444444444444444,
              "#bd3786"
             ],
             [
              0.5555555555555556,
              "#d8576b"
             ],
             [
              0.6666666666666666,
              "#ed7953"
             ],
             [
              0.7777777777777778,
              "#fb9f3a"
             ],
             [
              0.8888888888888888,
              "#fdca26"
             ],
             [
              1,
              "#f0f921"
             ]
            ],
            "type": "histogram2dcontour"
           }
          ],
          "mesh3d": [
           {
            "colorbar": {
             "outlinewidth": 0,
             "ticks": ""
            },
            "type": "mesh3d"
           }
          ],
          "parcoords": [
           {
            "line": {
             "colorbar": {
              "outlinewidth": 0,
              "ticks": ""
             }
            },
            "type": "parcoords"
           }
          ],
          "pie": [
           {
            "automargin": true,
            "type": "pie"
           }
          ],
          "scatter": [
           {
            "marker": {
             "colorbar": {
              "outlinewidth": 0,
              "ticks": ""
             }
            },
            "type": "scatter"
           }
          ],
          "scatter3d": [
           {
            "line": {
             "colorbar": {
              "outlinewidth": 0,
              "ticks": ""
             }
            },
            "marker": {
             "colorbar": {
              "outlinewidth": 0,
              "ticks": ""
             }
            },
            "type": "scatter3d"
           }
          ],
          "scattercarpet": [
           {
            "marker": {
             "colorbar": {
              "outlinewidth": 0,
              "ticks": ""
             }
            },
            "type": "scattercarpet"
           }
          ],
          "scattergeo": [
           {
            "marker": {
             "colorbar": {
              "outlinewidth": 0,
              "ticks": ""
             }
            },
            "type": "scattergeo"
           }
          ],
          "scattergl": [
           {
            "marker": {
             "colorbar": {
              "outlinewidth": 0,
              "ticks": ""
             }
            },
            "type": "scattergl"
           }
          ],
          "scattermapbox": [
           {
            "marker": {
             "colorbar": {
              "outlinewidth": 0,
              "ticks": ""
             }
            },
            "type": "scattermapbox"
           }
          ],
          "scatterpolar": [
           {
            "marker": {
             "colorbar": {
              "outlinewidth": 0,
              "ticks": ""
             }
            },
            "type": "scatterpolar"
           }
          ],
          "scatterpolargl": [
           {
            "marker": {
             "colorbar": {
              "outlinewidth": 0,
              "ticks": ""
             }
            },
            "type": "scatterpolargl"
           }
          ],
          "scatterternary": [
           {
            "marker": {
             "colorbar": {
              "outlinewidth": 0,
              "ticks": ""
             }
            },
            "type": "scatterternary"
           }
          ],
          "surface": [
           {
            "colorbar": {
             "outlinewidth": 0,
             "ticks": ""
            },
            "colorscale": [
             [
              0,
              "#0d0887"
             ],
             [
              0.1111111111111111,
              "#46039f"
             ],
             [
              0.2222222222222222,
              "#7201a8"
             ],
             [
              0.3333333333333333,
              "#9c179e"
             ],
             [
              0.4444444444444444,
              "#bd3786"
             ],
             [
              0.5555555555555556,
              "#d8576b"
             ],
             [
              0.6666666666666666,
              "#ed7953"
             ],
             [
              0.7777777777777778,
              "#fb9f3a"
             ],
             [
              0.8888888888888888,
              "#fdca26"
             ],
             [
              1,
              "#f0f921"
             ]
            ],
            "type": "surface"
           }
          ],
          "table": [
           {
            "cells": {
             "fill": {
              "color": "#EBF0F8"
             },
             "line": {
              "color": "white"
             }
            },
            "header": {
             "fill": {
              "color": "#C8D4E3"
             },
             "line": {
              "color": "white"
             }
            },
            "type": "table"
           }
          ]
         },
         "layout": {
          "annotationdefaults": {
           "arrowcolor": "#2a3f5f",
           "arrowhead": 0,
           "arrowwidth": 1
          },
          "autotypenumbers": "strict",
          "coloraxis": {
           "colorbar": {
            "outlinewidth": 0,
            "ticks": ""
           }
          },
          "colorscale": {
           "diverging": [
            [
             0,
             "#8e0152"
            ],
            [
             0.1,
             "#c51b7d"
            ],
            [
             0.2,
             "#de77ae"
            ],
            [
             0.3,
             "#f1b6da"
            ],
            [
             0.4,
             "#fde0ef"
            ],
            [
             0.5,
             "#f7f7f7"
            ],
            [
             0.6,
             "#e6f5d0"
            ],
            [
             0.7,
             "#b8e186"
            ],
            [
             0.8,
             "#7fbc41"
            ],
            [
             0.9,
             "#4d9221"
            ],
            [
             1,
             "#276419"
            ]
           ],
           "sequential": [
            [
             0,
             "#0d0887"
            ],
            [
             0.1111111111111111,
             "#46039f"
            ],
            [
             0.2222222222222222,
             "#7201a8"
            ],
            [
             0.3333333333333333,
             "#9c179e"
            ],
            [
             0.4444444444444444,
             "#bd3786"
            ],
            [
             0.5555555555555556,
             "#d8576b"
            ],
            [
             0.6666666666666666,
             "#ed7953"
            ],
            [
             0.7777777777777778,
             "#fb9f3a"
            ],
            [
             0.8888888888888888,
             "#fdca26"
            ],
            [
             1,
             "#f0f921"
            ]
           ],
           "sequentialminus": [
            [
             0,
             "#0d0887"
            ],
            [
             0.1111111111111111,
             "#46039f"
            ],
            [
             0.2222222222222222,
             "#7201a8"
            ],
            [
             0.3333333333333333,
             "#9c179e"
            ],
            [
             0.4444444444444444,
             "#bd3786"
            ],
            [
             0.5555555555555556,
             "#d8576b"
            ],
            [
             0.6666666666666666,
             "#ed7953"
            ],
            [
             0.7777777777777778,
             "#fb9f3a"
            ],
            [
             0.8888888888888888,
             "#fdca26"
            ],
            [
             1,
             "#f0f921"
            ]
           ]
          },
          "colorway": [
           "#636efa",
           "#EF553B",
           "#00cc96",
           "#ab63fa",
           "#FFA15A",
           "#19d3f3",
           "#FF6692",
           "#B6E880",
           "#FF97FF",
           "#FECB52"
          ],
          "font": {
           "color": "#2a3f5f"
          },
          "geo": {
           "bgcolor": "white",
           "lakecolor": "white",
           "landcolor": "#E5ECF6",
           "showlakes": true,
           "showland": true,
           "subunitcolor": "white"
          },
          "hoverlabel": {
           "align": "left"
          },
          "hovermode": "closest",
          "mapbox": {
           "style": "light"
          },
          "paper_bgcolor": "white",
          "plot_bgcolor": "#E5ECF6",
          "polar": {
           "angularaxis": {
            "gridcolor": "white",
            "linecolor": "white",
            "ticks": ""
           },
           "bgcolor": "#E5ECF6",
           "radialaxis": {
            "gridcolor": "white",
            "linecolor": "white",
            "ticks": ""
           }
          },
          "scene": {
           "xaxis": {
            "backgroundcolor": "#E5ECF6",
            "gridcolor": "white",
            "gridwidth": 2,
            "linecolor": "white",
            "showbackground": true,
            "ticks": "",
            "zerolinecolor": "white"
           },
           "yaxis": {
            "backgroundcolor": "#E5ECF6",
            "gridcolor": "white",
            "gridwidth": 2,
            "linecolor": "white",
            "showbackground": true,
            "ticks": "",
            "zerolinecolor": "white"
           },
           "zaxis": {
            "backgroundcolor": "#E5ECF6",
            "gridcolor": "white",
            "gridwidth": 2,
            "linecolor": "white",
            "showbackground": true,
            "ticks": "",
            "zerolinecolor": "white"
           }
          },
          "shapedefaults": {
           "line": {
            "color": "#2a3f5f"
           }
          },
          "ternary": {
           "aaxis": {
            "gridcolor": "white",
            "linecolor": "white",
            "ticks": ""
           },
           "baxis": {
            "gridcolor": "white",
            "linecolor": "white",
            "ticks": ""
           },
           "bgcolor": "#E5ECF6",
           "caxis": {
            "gridcolor": "white",
            "linecolor": "white",
            "ticks": ""
           }
          },
          "title": {
           "x": 0.05
          },
          "xaxis": {
           "automargin": true,
           "gridcolor": "white",
           "linecolor": "white",
           "ticks": "",
           "title": {
            "standoff": 15
           },
           "zerolinecolor": "white",
           "zerolinewidth": 2
          },
          "yaxis": {
           "automargin": true,
           "gridcolor": "white",
           "linecolor": "white",
           "ticks": "",
           "title": {
            "standoff": 15
           },
           "zerolinecolor": "white",
           "zerolinewidth": 2
          }
         }
        }
       }
      },
      "text/html": [
       "<div>                            <div id=\"d7adab99-e484-4e3e-adc4-d69473bd96a1\" class=\"plotly-graph-div\" style=\"height:525px; width:100%;\"></div>            <script type=\"text/javascript\">                require([\"plotly\"], function(Plotly) {                    window.PLOTLYENV=window.PLOTLYENV || {};                                    if (document.getElementById(\"d7adab99-e484-4e3e-adc4-d69473bd96a1\")) {                    Plotly.newPlot(                        \"d7adab99-e484-4e3e-adc4-d69473bd96a1\",                        [{\"name\":\"Actual\",\"y\":[1.032194559068181,1.0005256186949354,0.941772411410728,0.9465086101111548,0.8893223228305642,0.9085423470812263,0.9359538422660358,0.917977980981678,0.8786503092274066,0.9000806147387189,0.8934072114090057,0.9235809371645536,0.8369080041426833,0.853377058714622,0.8956691602918424,0.9039719153353144,0.8902983772060996,0.8941653344037803,0.8825114703777266,0.8348300383632093,0.7611609515983676,0.7651993061965707,0.7825144180818129,0.7849492547773504,0.7829991332425175,0.734550801361508,0.7278431185516903,0.7650943149386661,0.7760887543764297,0.7205932569116208,0.7477606557018698,0.7564000782963197,0.735988055505599,0.7111283115716593,0.7227747235368209,0.7202368827996167,0.724094235118814,0.7568124256656924,0.7518159016380954,0.7890869701874507,0.7887754740421534,0.7818145867633512,0.7880383824192303,0.7868121043990673,0.734520165111173,0.716650454294192,0.727517380690021,0.7125480119723153,0.7374829389205905,0.7302549366591383,0.7163430981827237,0.7061736846864123,0.666745989714831,0.6606382806075184,0.6355359306911968,0.6374115316171071,0.640473169434362,0.6397754909334914,0.6547922216382014,0.6742233876141448,0.6519905779454104,0.6602681615832018,0.6606710696754444,0.6604619151664012,0.6460539350359139,0.6485462354009986,0.6370848001473189,0.6208707716592493,0.550728662514047,0.5279768582045037,0.5474040497479713,0.5542897540124379,0.5592241775325993,0.5567570485731952,0.5625656816366976,0.5717807345347379,0.5792374322649063,0.5745164688889706,0.5842064664678788,0.5879770436780192,0.558198111548409,0.5650747077384518,0.6356646029426034,0.6324906874079048,0.6490223392913388,0.6731855639338798,0.6765472714030639,0.6820076448208673,0.667479769310691,0.6489040999251813,0.6463230372348018,0.6436036974145323,0.6515903194748184,0.6848583065141941,0.6737414876764439,0.6181348717036635,0.6091715328624293,0.6109058758340925,0.5828814900412314,0.5600495346767577,0.5802888352561306,0.5640546034029753,0.5818931811655619,0.5966641594621797,0.5949675735990373,0.571491097768058,0.6619248375202322,0.6828104801809955,0.6740630855042842,0.6502333819870108,0.5954965043210361,0.5996249460553591,0.583443209831156,0.5762758176649612,0.5885738709548142,0.6417497902658861,0.60002305170836,0.5885563172113791,0.5898445301376246,0.5727872595592551,0.6041526526521553,0.5976769773381172,0.6280428006633326,0.6247953581278303,0.6386994133406462,0.6460458205696089,0.6304955223050117,0.6261922055417498,0.6487451226261458,0.6573337056051751,0.6756939276302213,0.6810213231614358,0.6843020515689237,0.7226634394274962,0.7275395712713446,0.7327161039698287,0.7266416807345015,0.7008467859592573,0.71365025457896,0.7058257562434193,0.7157013929392219,0.7185689459705712,0.7006349818285634,0.6620982221369927,0.6666310623757368,0.6468884002544961,0.6552009257778046,0.6453456580484409,0.6018189983833995,0.6108358264617051,0.6286023676356663,0.6086406149241925,0.6187343486021092,0.6158662987667004,0.6042644335655395,0.6228616311269601,0.634322072772521,0.6320866201061901,0.6175438404742292,0.6047787913684599,0.600347630360557,0.6004888883148041,0.6166507523766277,0.5783400385321228,0.5969382297016624,0.605323454219009,0.5863462015520821,0.5703605373300226,0.5842304786640872,0.5851712599513993,0.5840097320603225],\"type\":\"scatter\"},{\"name\":\"Predict\",\"y\":[0.9817648530006409,0.9889019131660461,0.9925424456596375,0.9587177634239197,0.9235047101974487,0.9113627672195435,0.8800737261772156,0.8997288346290588,0.9123427271842957,0.8903324604034424,0.870883047580719,0.8828793168067932,0.8867564797401428,0.8824159502983093,0.8305764198303223,0.8532456755638123,0.8829160332679749,0.8845318555831909,0.8767890930175781,0.8760908842086792,0.8552449345588684,0.8023665547370911,0.7538363933563232,0.7618083357810974,0.7742727398872375,0.7753363251686096,0.7593767046928406,0.7241652607917786,0.7310246825218201,0.7598037719726562,0.7503883838653564,0.7207202315330505,0.7420125603675842,0.7416700124740601,0.7199560403823853,0.7064363360404968,0.7136873602867126,0.7131384015083313,0.7259134650230408,0.7467995882034302,0.7546825408935547,0.7798532247543335,0.7775679230690002,0.7747216820716858,0.7785608172416687,0.7619597315788269,0.7206663489341736,0.7117292284965515,0.7145596146583557,0.7119957804679871,0.7269284129142761,0.7176318764686584,0.7048435807228088,0.6853026151657104,0.6558415293693542,0.6434339880943298,0.62642502784729,0.6287413239479065,0.6306641697883606,0.6350570321083069,0.6518532633781433,0.6582807898521423,0.6453935503959656,0.6513198018074036,0.6515341401100159,0.6467269062995911,0.6374344229698181,0.6354551315307617,0.6221020817756653,0.5874176025390625,0.5301864147186279,0.5206788778305054,0.536704957485199,0.5432242751121521,0.5458807945251465,0.5460878014564514,0.5532764792442322,0.5622753500938416,0.56596440076828,0.565864622592926,0.5739609599113464,0.5666784048080444,0.5479466319084167,0.5762572884559631,0.6249082088470459,0.6280695199966431,0.6474815011024475,0.6654523611068726,0.6695441603660583,0.6687032580375671,0.6525650024414062,0.6387116312980652,0.6360170245170593,0.6367037892341614,0.6530275940895081,0.6726970076560974,0.6469491124153137,0.6049144268035889,0.5991707444190979,0.5911105275154114,0.5636983513832092,0.5543444752693176,0.5632081627845764,0.5577073693275452,0.5752168297767639,0.5850759148597717,0.5760632753372192,0.5893869996070862,0.6595944166183472,0.6713720560073853,0.6576011180877686,0.6230058670043945,0.5857968926429749,0.5833355784416199,0.5695219039916992,0.5685617327690125,0.5948076844215393,0.6185280680656433,0.5853168368339539,0.5776525735855103,0.5728780031204224,0.5712782740592957,0.5912572145462036,0.5967174172401428,0.617029070854187,0.6192964911460876,0.6314604878425598,0.6315501928329468,0.6192124485969543,0.623555064201355,0.6421703696250916,0.6541033387184143,0.668633759021759,0.6733953356742859,0.6878185868263245,0.7158842086791992,0.7208505272865295,0.7225301265716553,0.710290253162384,0.6964625120162964,0.7028711438179016,0.7005549073219299,0.7082827687263489,0.704642653465271,0.6799620985984802,0.6545212864875793,0.6513182520866394,0.6401780843734741,0.6428099274635315,0.621650755405426,0.5939651131629944,0.6061680912971497,0.612112283706665,0.6013773679733276,0.6075428128242493,0.6016958951950073,0.5996533036231995,0.6165053844451904,0.6238324642181396,0.6174941062927246,0.6030480861663818,0.5925834774971008,0.5895050168037415,0.5949468612670898,0.5936541557312012,0.5728005766868591,0.5887013077735901,0.5883227586746216,0.5695964694023132,0.5629387497901917,0.5730437636375427],\"type\":\"scatter\"}],                        {\"template\":{\"data\":{\"bar\":[{\"error_x\":{\"color\":\"#2a3f5f\"},\"error_y\":{\"color\":\"#2a3f5f\"},\"marker\":{\"line\":{\"color\":\"#E5ECF6\",\"width\":0.5},\"pattern\":{\"fillmode\":\"overlay\",\"size\":10,\"solidity\":0.2}},\"type\":\"bar\"}],\"barpolar\":[{\"marker\":{\"line\":{\"color\":\"#E5ECF6\",\"width\":0.5},\"pattern\":{\"fillmode\":\"overlay\",\"size\":10,\"solidity\":0.2}},\"type\":\"barpolar\"}],\"carpet\":[{\"aaxis\":{\"endlinecolor\":\"#2a3f5f\",\"gridcolor\":\"white\",\"linecolor\":\"white\",\"minorgridcolor\":\"white\",\"startlinecolor\":\"#2a3f5f\"},\"baxis\":{\"endlinecolor\":\"#2a3f5f\",\"gridcolor\":\"white\",\"linecolor\":\"white\",\"minorgridcolor\":\"white\",\"startlinecolor\":\"#2a3f5f\"},\"type\":\"carpet\"}],\"choropleth\":[{\"colorbar\":{\"outlinewidth\":0,\"ticks\":\"\"},\"type\":\"choropleth\"}],\"contour\":[{\"colorbar\":{\"outlinewidth\":0,\"ticks\":\"\"},\"colorscale\":[[0.0,\"#0d0887\"],[0.1111111111111111,\"#46039f\"],[0.2222222222222222,\"#7201a8\"],[0.3333333333333333,\"#9c179e\"],[0.4444444444444444,\"#bd3786\"],[0.5555555555555556,\"#d8576b\"],[0.6666666666666666,\"#ed7953\"],[0.7777777777777778,\"#fb9f3a\"],[0.8888888888888888,\"#fdca26\"],[1.0,\"#f0f921\"]],\"type\":\"contour\"}],\"contourcarpet\":[{\"colorbar\":{\"outlinewidth\":0,\"ticks\":\"\"},\"type\":\"contourcarpet\"}],\"heatmap\":[{\"colorbar\":{\"outlinewidth\":0,\"ticks\":\"\"},\"colorscale\":[[0.0,\"#0d0887\"],[0.1111111111111111,\"#46039f\"],[0.2222222222222222,\"#7201a8\"],[0.3333333333333333,\"#9c179e\"],[0.4444444444444444,\"#bd3786\"],[0.5555555555555556,\"#d8576b\"],[0.6666666666666666,\"#ed7953\"],[0.7777777777777778,\"#fb9f3a\"],[0.8888888888888888,\"#fdca26\"],[1.0,\"#f0f921\"]],\"type\":\"heatmap\"}],\"heatmapgl\":[{\"colorbar\":{\"outlinewidth\":0,\"ticks\":\"\"},\"colorscale\":[[0.0,\"#0d0887\"],[0.1111111111111111,\"#46039f\"],[0.2222222222222222,\"#7201a8\"],[0.3333333333333333,\"#9c179e\"],[0.4444444444444444,\"#bd3786\"],[0.5555555555555556,\"#d8576b\"],[0.6666666666666666,\"#ed7953\"],[0.7777777777777778,\"#fb9f3a\"],[0.8888888888888888,\"#fdca26\"],[1.0,\"#f0f921\"]],\"type\":\"heatmapgl\"}],\"histogram\":[{\"marker\":{\"pattern\":{\"fillmode\":\"overlay\",\"size\":10,\"solidity\":0.2}},\"type\":\"histogram\"}],\"histogram2d\":[{\"colorbar\":{\"outlinewidth\":0,\"ticks\":\"\"},\"colorscale\":[[0.0,\"#0d0887\"],[0.1111111111111111,\"#46039f\"],[0.2222222222222222,\"#7201a8\"],[0.3333333333333333,\"#9c179e\"],[0.4444444444444444,\"#bd3786\"],[0.5555555555555556,\"#d8576b\"],[0.6666666666666666,\"#ed7953\"],[0.7777777777777778,\"#fb9f3a\"],[0.8888888888888888,\"#fdca26\"],[1.0,\"#f0f921\"]],\"type\":\"histogram2d\"}],\"histogram2dcontour\":[{\"colorbar\":{\"outlinewidth\":0,\"ticks\":\"\"},\"colorscale\":[[0.0,\"#0d0887\"],[0.1111111111111111,\"#46039f\"],[0.2222222222222222,\"#7201a8\"],[0.3333333333333333,\"#9c179e\"],[0.4444444444444444,\"#bd3786\"],[0.5555555555555556,\"#d8576b\"],[0.6666666666666666,\"#ed7953\"],[0.7777777777777778,\"#fb9f3a\"],[0.8888888888888888,\"#fdca26\"],[1.0,\"#f0f921\"]],\"type\":\"histogram2dcontour\"}],\"mesh3d\":[{\"colorbar\":{\"outlinewidth\":0,\"ticks\":\"\"},\"type\":\"mesh3d\"}],\"parcoords\":[{\"line\":{\"colorbar\":{\"outlinewidth\":0,\"ticks\":\"\"}},\"type\":\"parcoords\"}],\"pie\":[{\"automargin\":true,\"type\":\"pie\"}],\"scatter\":[{\"marker\":{\"colorbar\":{\"outlinewidth\":0,\"ticks\":\"\"}},\"type\":\"scatter\"}],\"scatter3d\":[{\"line\":{\"colorbar\":{\"outlinewidth\":0,\"ticks\":\"\"}},\"marker\":{\"colorbar\":{\"outlinewidth\":0,\"ticks\":\"\"}},\"type\":\"scatter3d\"}],\"scattercarpet\":[{\"marker\":{\"colorbar\":{\"outlinewidth\":0,\"ticks\":\"\"}},\"type\":\"scattercarpet\"}],\"scattergeo\":[{\"marker\":{\"colorbar\":{\"outlinewidth\":0,\"ticks\":\"\"}},\"type\":\"scattergeo\"}],\"scattergl\":[{\"marker\":{\"colorbar\":{\"outlinewidth\":0,\"ticks\":\"\"}},\"type\":\"scattergl\"}],\"scattermapbox\":[{\"marker\":{\"colorbar\":{\"outlinewidth\":0,\"ticks\":\"\"}},\"type\":\"scattermapbox\"}],\"scatterpolar\":[{\"marker\":{\"colorbar\":{\"outlinewidth\":0,\"ticks\":\"\"}},\"type\":\"scatterpolar\"}],\"scatterpolargl\":[{\"marker\":{\"colorbar\":{\"outlinewidth\":0,\"ticks\":\"\"}},\"type\":\"scatterpolargl\"}],\"scatterternary\":[{\"marker\":{\"colorbar\":{\"outlinewidth\":0,\"ticks\":\"\"}},\"type\":\"scatterternary\"}],\"surface\":[{\"colorbar\":{\"outlinewidth\":0,\"ticks\":\"\"},\"colorscale\":[[0.0,\"#0d0887\"],[0.1111111111111111,\"#46039f\"],[0.2222222222222222,\"#7201a8\"],[0.3333333333333333,\"#9c179e\"],[0.4444444444444444,\"#bd3786\"],[0.5555555555555556,\"#d8576b\"],[0.6666666666666666,\"#ed7953\"],[0.7777777777777778,\"#fb9f3a\"],[0.8888888888888888,\"#fdca26\"],[1.0,\"#f0f921\"]],\"type\":\"surface\"}],\"table\":[{\"cells\":{\"fill\":{\"color\":\"#EBF0F8\"},\"line\":{\"color\":\"white\"}},\"header\":{\"fill\":{\"color\":\"#C8D4E3\"},\"line\":{\"color\":\"white\"}},\"type\":\"table\"}]},\"layout\":{\"annotationdefaults\":{\"arrowcolor\":\"#2a3f5f\",\"arrowhead\":0,\"arrowwidth\":1},\"autotypenumbers\":\"strict\",\"coloraxis\":{\"colorbar\":{\"outlinewidth\":0,\"ticks\":\"\"}},\"colorscale\":{\"diverging\":[[0,\"#8e0152\"],[0.1,\"#c51b7d\"],[0.2,\"#de77ae\"],[0.3,\"#f1b6da\"],[0.4,\"#fde0ef\"],[0.5,\"#f7f7f7\"],[0.6,\"#e6f5d0\"],[0.7,\"#b8e186\"],[0.8,\"#7fbc41\"],[0.9,\"#4d9221\"],[1,\"#276419\"]],\"sequential\":[[0.0,\"#0d0887\"],[0.1111111111111111,\"#46039f\"],[0.2222222222222222,\"#7201a8\"],[0.3333333333333333,\"#9c179e\"],[0.4444444444444444,\"#bd3786\"],[0.5555555555555556,\"#d8576b\"],[0.6666666666666666,\"#ed7953\"],[0.7777777777777778,\"#fb9f3a\"],[0.8888888888888888,\"#fdca26\"],[1.0,\"#f0f921\"]],\"sequentialminus\":[[0.0,\"#0d0887\"],[0.1111111111111111,\"#46039f\"],[0.2222222222222222,\"#7201a8\"],[0.3333333333333333,\"#9c179e\"],[0.4444444444444444,\"#bd3786\"],[0.5555555555555556,\"#d8576b\"],[0.6666666666666666,\"#ed7953\"],[0.7777777777777778,\"#fb9f3a\"],[0.8888888888888888,\"#fdca26\"],[1.0,\"#f0f921\"]]},\"colorway\":[\"#636efa\",\"#EF553B\",\"#00cc96\",\"#ab63fa\",\"#FFA15A\",\"#19d3f3\",\"#FF6692\",\"#B6E880\",\"#FF97FF\",\"#FECB52\"],\"font\":{\"color\":\"#2a3f5f\"},\"geo\":{\"bgcolor\":\"white\",\"lakecolor\":\"white\",\"landcolor\":\"#E5ECF6\",\"showlakes\":true,\"showland\":true,\"subunitcolor\":\"white\"},\"hoverlabel\":{\"align\":\"left\"},\"hovermode\":\"closest\",\"mapbox\":{\"style\":\"light\"},\"paper_bgcolor\":\"white\",\"plot_bgcolor\":\"#E5ECF6\",\"polar\":{\"angularaxis\":{\"gridcolor\":\"white\",\"linecolor\":\"white\",\"ticks\":\"\"},\"bgcolor\":\"#E5ECF6\",\"radialaxis\":{\"gridcolor\":\"white\",\"linecolor\":\"white\",\"ticks\":\"\"}},\"scene\":{\"xaxis\":{\"backgroundcolor\":\"#E5ECF6\",\"gridcolor\":\"white\",\"gridwidth\":2,\"linecolor\":\"white\",\"showbackground\":true,\"ticks\":\"\",\"zerolinecolor\":\"white\"},\"yaxis\":{\"backgroundcolor\":\"#E5ECF6\",\"gridcolor\":\"white\",\"gridwidth\":2,\"linecolor\":\"white\",\"showbackground\":true,\"ticks\":\"\",\"zerolinecolor\":\"white\"},\"zaxis\":{\"backgroundcolor\":\"#E5ECF6\",\"gridcolor\":\"white\",\"gridwidth\":2,\"linecolor\":\"white\",\"showbackground\":true,\"ticks\":\"\",\"zerolinecolor\":\"white\"}},\"shapedefaults\":{\"line\":{\"color\":\"#2a3f5f\"}},\"ternary\":{\"aaxis\":{\"gridcolor\":\"white\",\"linecolor\":\"white\",\"ticks\":\"\"},\"baxis\":{\"gridcolor\":\"white\",\"linecolor\":\"white\",\"ticks\":\"\"},\"bgcolor\":\"#E5ECF6\",\"caxis\":{\"gridcolor\":\"white\",\"linecolor\":\"white\",\"ticks\":\"\"}},\"title\":{\"x\":0.05},\"xaxis\":{\"automargin\":true,\"gridcolor\":\"white\",\"linecolor\":\"white\",\"ticks\":\"\",\"title\":{\"standoff\":15},\"zerolinecolor\":\"white\",\"zerolinewidth\":2},\"yaxis\":{\"automargin\":true,\"gridcolor\":\"white\",\"linecolor\":\"white\",\"ticks\":\"\",\"title\":{\"standoff\":15},\"zerolinecolor\":\"white\",\"zerolinewidth\":2}}}},                        {\"responsive\": true}                    ).then(function(){\n",
       "                            \n",
       "var gd = document.getElementById('d7adab99-e484-4e3e-adc4-d69473bd96a1');\n",
       "var x = new MutationObserver(function (mutations, observer) {{\n",
       "        var display = window.getComputedStyle(gd).display;\n",
       "        if (!display || display === 'none') {{\n",
       "            console.log([gd, 'removed!']);\n",
       "            Plotly.purge(gd);\n",
       "            observer.disconnect();\n",
       "        }}\n",
       "}});\n",
       "\n",
       "// Listen for the removal of the full notebook cells\n",
       "var notebookContainer = gd.closest('#notebook-container');\n",
       "if (notebookContainer) {{\n",
       "    x.observe(notebookContainer, {childList: true});\n",
       "}}\n",
       "\n",
       "// Listen for the clearing of the current output cell\n",
       "var outputEl = gd.closest('.output');\n",
       "if (outputEl) {{\n",
       "    x.observe(outputEl, {childList: true});\n",
       "}}\n",
       "\n",
       "                        })                };                });            </script>        </div>"
      ]
     },
     "metadata": {},
     "output_type": "display_data"
    }
   ],
   "source": [
    "fig = go.Figure()\n",
    "fig.add_trace(go.Scatter(y = y_test.flatten(), name = 'Actual'))\n",
    "fig.add_trace(go.Scatter(y = y_predict.flatten(), name = 'Predict'))\n",
    "# fig.add_trace(go.scatter(y_predict.flatten()))"
   ]
  },
  {
   "cell_type": "code",
   "execution_count": 43,
   "id": "ffeef65c-5ead-4070-a5aa-8dd47bb543c4",
   "metadata": {},
   "outputs": [
    {
     "name": "stdout",
     "output_type": "stream",
     "text": [
      "RMSE: 0.03033523201592532\n",
      "MSE: 0.0009202263014600205\n",
      "MAE: 0.023551714785340443\n"
     ]
    }
   ],
   "source": [
    "calculate_metrics(y_test, y_predict)\n"
   ]
  },
  {
   "cell_type": "code",
   "execution_count": 44,
   "id": "c1fc2d20",
   "metadata": {},
   "outputs": [
    {
     "name": "stdout",
     "output_type": "stream",
     "text": [
      "RMSE: 1831.8226686631167\n",
      "MSE: 3355574.2894280627\n",
      "MAE: 1422.1933168859648\n"
     ]
    }
   ],
   "source": [
    "calculate_metrics(scaler.inverse_transform(y_test), scaler.inverse_transform(y_predict))"
   ]
  },
  {
   "cell_type": "markdown",
   "id": "6cb03cf9",
   "metadata": {},
   "source": [
    "## WALK OVER PREDICTION\n"
   ]
  },
  {
   "cell_type": "code",
   "execution_count": null,
   "id": "c25fba99",
   "metadata": {},
   "outputs": [],
   "source": [
    "# predictions = []\n",
    "# predictions_inversed = []\n",
    "# history = train_normalized\n",
    "# for i in tqdm(test_normalized):\n",
    "#     history = history[-lookback:] \n",
    "#     ## new axis because 3D is expected as input ##\n",
    "#     prediction = model.predict(history[np.newaxis,:,:], verbose = 0)\n",
    "#     predictions_inversed.append(float(scaler.inverse_transform(prediction)))\n",
    "#     predictions.append(float(prediction))\n",
    "#     ## a square bracket to match dimension at individual level ##\n",
    "#     history = np.append(history, [i], axis=0)"
   ]
  },
  {
   "cell_type": "code",
   "execution_count": null,
   "id": "398ce9fd",
   "metadata": {},
   "outputs": [],
   "source": [
    "# print(f'RMSE: {mean_squared_error(predictions, test_normalized.flatten(), squared=False)}')\n",
    "# print(f'RMSE: {mean_squared_error(predictions_inversed, test, squared=False)}')"
   ]
  },
  {
   "cell_type": "code",
   "execution_count": null,
   "id": "7b8db056",
   "metadata": {},
   "outputs": [],
   "source": [
    "# plt.plot(test, label='test')\n",
    "# plt.plot(predictions_inversed, 'r-', label='predict')\n",
    "# # plt.legend()"
   ]
  },
  {
   "cell_type": "code",
   "execution_count": null,
   "id": "06fbf4a7",
   "metadata": {},
   "outputs": [],
   "source": []
  }
 ],
 "metadata": {
  "environment": {
   "kernel": "python3",
   "name": "tf2-gpu.2-9.m94",
   "type": "gcloud",
   "uri": "gcr.io/deeplearning-platform-release/tf2-gpu.2-9:m94"
  },
  "kernelspec": {
   "display_name": "Python 3 (ipykernel)",
   "language": "python",
   "name": "python3"
  },
  "language_info": {
   "codemirror_mode": {
    "name": "ipython",
    "version": 3
   },
   "file_extension": ".py",
   "mimetype": "text/x-python",
   "name": "python",
   "nbconvert_exporter": "python",
   "pygments_lexer": "ipython3",
   "version": "3.9.12"
  }
 },
 "nbformat": 4,
 "nbformat_minor": 5
}
