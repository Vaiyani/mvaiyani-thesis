{
 "cells": [
  {
   "cell_type": "code",
   "execution_count": 63,
   "id": "ebdfc99e",
   "metadata": {},
   "outputs": [],
   "source": [
    "import pandas as pd\n",
    "import math\n",
    "import matplotlib.pyplot as plt\n",
    "import keras_tuner as kt\n",
    "# import plotly.express as px\n",
    "import numpy as np\n",
    "import tensorflow as tf\n",
    "# import plotly.graph_objects as go\n",
    "from tqdm import tqdm\n",
    "from sklearn.preprocessing import MinMaxScaler\n",
    "from sklearn.metrics import mean_absolute_percentage_error, mean_squared_error, mean_absolute_error\n",
    "from tensorflow.keras.models import save_model, model_from_json, Sequential\n",
    "from tensorflow.keras.layers import Dense, LSTM, Dropout\n",
    "from tensorflow import keras\n",
    "from keras_tuner.tuners import RandomSearch\n",
    "from keras.models import load_model\n",
    "# from plotly.subplots import make_subplots\n",
    "from keras_tuner.engine.hyperparameters import HyperParameters\n",
    "from typing import Union\n",
    "import warnings\n",
    "warnings.simplefilter(\"ignore\", UserWarning)"
   ]
  },
  {
   "cell_type": "code",
   "execution_count": 64,
   "id": "b9740fdf",
   "metadata": {},
   "outputs": [],
   "source": [
    "df = pd.read_csv('../data/cleaned_data.csv')\n",
    "data = df['close'].values\n",
    "data = data.reshape(-1,1)"
   ]
  },
  {
   "cell_type": "code",
   "execution_count": 65,
   "id": "cc28a207",
   "metadata": {},
   "outputs": [],
   "source": [
    "def min_max_scale(train: np.array, val:np.array, test: np.array) -> Union[MinMaxScaler, np.array, np.array, np.array]:\n",
    "    \"\"\" Tranform the train and test data into min max scale of train data\"\"\"\n",
    "    scaler = MinMaxScaler()\n",
    "    scaler = scaler.fit(train)\n",
    "    train_normalized = scaler.transform(train)\n",
    "    test_normalized = scaler.transform(test)\n",
    "    val_normalized = scaler.transform(val)\n",
    "    return scaler, train_normalized, val_normalized, test_normalized\n",
    "\n",
    "def data_divider(data: np.array, threshold: int):\n",
    "    \"\"\" This functions divideds the data (close price) into 80 20 ration for test and train data \"\"\"\n",
    "    train_test_divider = int(len(data)*threshold)\n",
    "    training_data, testing_data = data[:train_test_divider], data[train_test_divider:]\n",
    "    return training_data, testing_data\n",
    "\n",
    "def sliding_window(data: [], window_length: int) -> Union[np.array, np.array]:\n",
    "    \"\"\" \n",
    "    This function creates a sliding window pattern from the data given and window length given.\n",
    "    For example:\n",
    "    Data = [[1],[2],[3],[4],[5],[6]]\n",
    "    sliding window = 2\n",
    "    X = [[[1],[2]],[[2],[3]],[[3],[4]],[[4],[5]]]\n",
    "    Y = [[3],[4],[5],[6]]\n",
    "    \n",
    "    \"\"\"\n",
    "    X = []\n",
    "    Y = []\n",
    "    for i in range(len(data) - window_length):\n",
    "        X.append(data[i: i+ window_length])\n",
    "        Y.append(data[i+window_length])\n",
    "    \n",
    "    return np.array(X), np.array(Y)\n",
    "\n",
    "def model_builder(hp):\n",
    "    \"\"\" Keras hyper paramter tuner model builder\"\"\"\n",
    "#     np.random.seed(1234)\n",
    "#     tf.random.set_seed(1234) \n",
    "    hp_activation = hp.Choice('activationfunc', ['relu', 'tanh', 'selu'])\n",
    "    hp_dropout = hp.Choice('dropout', values=[0.05, 0.1, 0.2])  \n",
    "    model = Sequential()\n",
    "    model.add(LSTM(hp.Int('first_layer_neurons', min_value=10, max_value=25, step=2), \n",
    "                   activation= hp_activation, return_sequences=True))\n",
    "    model.add(Dropout(hp_dropout))\n",
    "    model.add(LSTM(hp.Int('second_layer_neurons', min_value=10, max_value=25, step=2), activation= hp_activation))\n",
    "    model.add(Dense(1))\n",
    "    hp_learning_rate = hp.Choice('learning_rate', values=[1e-2, 1e-3, 1e-4])\n",
    "\n",
    "    model.compile(optimizer=keras.optimizers.Adam(learning_rate=hp_learning_rate),\n",
    "                  loss='mse',\n",
    "                  metrics='mse')\n",
    "\n",
    "    return model\n",
    "\n",
    "def show_best_hyperparamters(best_hps):\n",
    "    print('Best Hyper Parameters\\n')\n",
    "    print('Layer 1 neuron: ', best_hps.get('first_layer_neurons'))\n",
    "    print('Layer 2 neuron: ' , best_hps.get('second_layer_neurons'))\n",
    "    print('Activation Function: ', best_hps.get('activationfunc'))\n",
    "    print('learning_rate: ', best_hps.get('learning_rate'))\n",
    "    print('Dropout rate: ', best_hps.get('dropout'))\n",
    "    \n",
    "def calculate_metrics(test: np.ndarray, predict: np.ndarray) -> float:\n",
    "    \"\"\".\"\"\"\n",
    "#     print(f'RMSE: {mean_squared_error(test.flatten(), predict.flatten(), squared=False)}')\n",
    "    print(f'MSE: {mean_squared_error(test.flatten(), predict.flatten())}')\n",
    "    print(f'MAE: {mean_absolute_error(test.flatten(), predict.flatten())}')"
   ]
  },
  {
   "cell_type": "code",
   "execution_count": 66,
   "id": "a03dfd89",
   "metadata": {},
   "outputs": [],
   "source": [
    "lookback = 50\n",
    "train, test = data_divider(data, 0.8)\n",
    "# val, test = data_divider(test, 0.5)\n",
    "scaler, train_normalized, val_normalized, test_normalized = min_max_scale(train, test, test)\n",
    "x_train, y_train = sliding_window(train_normalized, lookback)\n",
    "x_val, y_val = sliding_window(val_normalized, lookback)\n",
    "x_test, y_test = sliding_window(test_normalized, lookback)"
   ]
  },
  {
   "cell_type": "code",
   "execution_count": 67,
   "id": "2d66ddca",
   "metadata": {},
   "outputs": [
    {
     "name": "stdout",
     "output_type": "stream",
     "text": [
      "INFO:tensorflow:Reloading Oracle from existing project my_dir\\intro_to_kt\\oracle.json\n"
     ]
    },
    {
     "name": "stderr",
     "output_type": "stream",
     "text": [
      "INFO:tensorflow:Reloading Oracle from existing project my_dir\\intro_to_kt\\oracle.json\n"
     ]
    },
    {
     "name": "stdout",
     "output_type": "stream",
     "text": [
      "INFO:tensorflow:Reloading Tuner from my_dir\\intro_to_kt\\tuner0.json\n"
     ]
    },
    {
     "name": "stderr",
     "output_type": "stream",
     "text": [
      "INFO:tensorflow:Reloading Tuner from my_dir\\intro_to_kt\\tuner0.json\n"
     ]
    },
    {
     "name": "stdout",
     "output_type": "stream",
     "text": [
      "INFO:tensorflow:Oracle triggered exit\n"
     ]
    },
    {
     "name": "stderr",
     "output_type": "stream",
     "text": [
      "INFO:tensorflow:Oracle triggered exit\n"
     ]
    }
   ],
   "source": [
    "tuner = kt.RandomSearch(model_builder, objective='val_mse', max_trials=20, directory='my_dir', project_name='intro_to_kt')\n",
    "stop_early = keras.callbacks.EarlyStopping(monitor='val_loss', patience=5)\n",
    "tuner.search(x_train, y_train, epochs=100, validation_split=0.2, callbacks=[stop_early])"
   ]
  },
  {
   "cell_type": "code",
   "execution_count": 68,
   "id": "60a2d759",
   "metadata": {},
   "outputs": [],
   "source": [
    "def model():\n",
    "    \n",
    "#     np.random.seed(1234)\n",
    "#     tf.random.set_seed(1234)\n",
    "    \n",
    "    model = keras.Sequential()\n",
    "    model.add(LSTM(24, activation= 'tanh', return_sequences=True))\n",
    "    model.add(Dropout(0.2))\n",
    "    model.add(LSTM(24, activation= 'tanh'))\n",
    "    model.add(Dense(1))\n",
    "\n",
    "    model.compile(optimizer=keras.optimizers.Adam(learning_rate=0.00001),\n",
    "                  loss='mse',\n",
    "                  metrics='mse')\n",
    "\n",
    "    return model"
   ]
  },
  {
   "cell_type": "code",
   "execution_count": 69,
   "id": "d3a1c946-eef6-4fe1-8c98-2d057bd865c1",
   "metadata": {},
   "outputs": [],
   "source": [
    "# best_hps = tuner.get_best_hyperparameters()[0]\n",
    "# show_best_hyperparamters(best_hps)"
   ]
  },
  {
   "cell_type": "code",
   "execution_count": 70,
   "id": "cb26b0c0-e47d-4296-87f4-ee94540a3dee",
   "metadata": {},
   "outputs": [
    {
     "name": "stdout",
     "output_type": "stream",
     "text": [
      "Epoch 1/60\n",
      "1031/1031 [==============================] - 28s 24ms/step - loss: 0.0054 - mse: 0.0054\n",
      "Epoch 2/60\n",
      "1031/1031 [==============================] - 24s 24ms/step - loss: 0.0037 - mse: 0.0037\n",
      "Epoch 3/60\n",
      "1031/1031 [==============================] - 25s 24ms/step - loss: 8.5115e-04 - mse: 8.5115e-04\n",
      "Epoch 4/60\n",
      "1031/1031 [==============================] - 25s 24ms/step - loss: 3.2293e-04 - mse: 3.2293e-04\n",
      "Epoch 5/60\n",
      "1031/1031 [==============================] - 24s 24ms/step - loss: 2.4529e-04 - mse: 2.4529e-04\n",
      "Epoch 6/60\n",
      "1031/1031 [==============================] - 25s 24ms/step - loss: 2.2370e-04 - mse: 2.2370e-04\n",
      "Epoch 7/60\n",
      "1031/1031 [==============================] - 24s 24ms/step - loss: 2.2104e-04 - mse: 2.2104e-04\n",
      "Epoch 8/60\n",
      "1031/1031 [==============================] - 25s 24ms/step - loss: 2.0860e-04 - mse: 2.0860e-04\n",
      "Epoch 9/60\n",
      "1031/1031 [==============================] - 25s 24ms/step - loss: 1.9967e-04 - mse: 1.9967e-04\n",
      "Epoch 10/60\n",
      "1031/1031 [==============================] - 25s 24ms/step - loss: 1.9497e-04 - mse: 1.9497e-04\n",
      "Epoch 11/60\n",
      "1031/1031 [==============================] - 25s 24ms/step - loss: 1.8332e-04 - mse: 1.8332e-04\n",
      "Epoch 12/60\n",
      "1031/1031 [==============================] - 25s 24ms/step - loss: 1.8867e-04 - mse: 1.8867e-04\n",
      "Epoch 13/60\n",
      "1031/1031 [==============================] - 25s 24ms/step - loss: 1.8256e-04 - mse: 1.8256e-04\n",
      "Epoch 14/60\n",
      "1031/1031 [==============================] - 25s 24ms/step - loss: 1.7854e-04 - mse: 1.7854e-04\n",
      "Epoch 15/60\n",
      "1031/1031 [==============================] - 25s 24ms/step - loss: 1.7166e-04 - mse: 1.7166e-04\n",
      "Epoch 16/60\n",
      "1031/1031 [==============================] - 25s 24ms/step - loss: 1.6829e-04 - mse: 1.6829e-04\n",
      "Epoch 17/60\n",
      "1031/1031 [==============================] - 25s 24ms/step - loss: 1.6490e-04 - mse: 1.6490e-04\n",
      "Epoch 18/60\n",
      "1031/1031 [==============================] - 25s 24ms/step - loss: 1.6665e-04 - mse: 1.6665e-04\n",
      "Epoch 19/60\n",
      "1031/1031 [==============================] - 25s 24ms/step - loss: 1.5608e-04 - mse: 1.5608e-04\n",
      "Epoch 20/60\n",
      "1031/1031 [==============================] - 25s 24ms/step - loss: 1.6072e-04 - mse: 1.6072e-04\n",
      "Epoch 21/60\n",
      "1031/1031 [==============================] - 25s 24ms/step - loss: 1.5601e-04 - mse: 1.5601e-04\n",
      "Epoch 22/60\n",
      "1031/1031 [==============================] - 25s 24ms/step - loss: 1.5914e-04 - mse: 1.5914e-04\n",
      "Epoch 23/60\n",
      "1031/1031 [==============================] - 25s 24ms/step - loss: 1.5552e-04 - mse: 1.5552e-04\n",
      "Epoch 24/60\n",
      "1031/1031 [==============================] - 25s 24ms/step - loss: 1.5389e-04 - mse: 1.5389e-04\n",
      "Epoch 25/60\n",
      "1031/1031 [==============================] - 25s 24ms/step - loss: 1.5428e-04 - mse: 1.5428e-04\n",
      "Epoch 26/60\n",
      "1031/1031 [==============================] - 25s 25ms/step - loss: 1.5005e-04 - mse: 1.5005e-04\n",
      "Epoch 27/60\n",
      "1031/1031 [==============================] - 25s 24ms/step - loss: 1.4672e-04 - mse: 1.4672e-04\n",
      "Epoch 28/60\n",
      "1031/1031 [==============================] - 25s 24ms/step - loss: 1.5083e-04 - mse: 1.5083e-04\n",
      "Epoch 29/60\n",
      "1031/1031 [==============================] - 25s 24ms/step - loss: 1.4537e-04 - mse: 1.4537e-04\n",
      "Epoch 30/60\n",
      "1031/1031 [==============================] - 25s 24ms/step - loss: 1.4528e-04 - mse: 1.4528e-04\n",
      "Epoch 31/60\n",
      "1031/1031 [==============================] - 25s 24ms/step - loss: 1.4585e-04 - mse: 1.4585e-04\n",
      "Epoch 32/60\n",
      "1031/1031 [==============================] - 25s 24ms/step - loss: 1.4035e-04 - mse: 1.4035e-04\n",
      "Epoch 33/60\n",
      "1031/1031 [==============================] - 25s 25ms/step - loss: 1.4263e-04 - mse: 1.4263e-04\n",
      "Epoch 34/60\n",
      "1031/1031 [==============================] - 23s 23ms/step - loss: 1.4500e-04 - mse: 1.4500e-04\n"
     ]
    }
   ],
   "source": [
    "# Build the model with the best hp.\n",
    "# model = model_builder(best_hps)\n",
    "model = model()\n",
    "\n",
    "# stop_training_early = keras.callbacks.EarlyStopping()\n",
    "stop_training_early = keras.callbacks.EarlyStopping(monitor=\"loss\", patience = 2)\n",
    "history = model.fit(x_train, y_train, epochs=60 , verbose=1, shuffle=False, callbacks=[stop_training_early])"
   ]
  },
  {
   "cell_type": "code",
   "execution_count": 71,
   "id": "c32b69cb",
   "metadata": {},
   "outputs": [
    {
     "data": {
      "text/plain": [
       "<matplotlib.legend.Legend at 0x205bf8b4bb0>"
      ]
     },
     "execution_count": 71,
     "metadata": {},
     "output_type": "execute_result"
    },
    {
     "data": {
      "image/png": "[encoded data removed]",
      "text/plain": [
       "<Figure size 432x288 with 1 Axes>"
      ]
     },
     "metadata": {
      "needs_background": "light"
     },
     "output_type": "display_data"
    }
   ],
   "source": [
    "plt.plot(history.history['loss'], label='train loss')\n",
    "# plt.plot(history.history['val_loss'], label='validation loss')\n",
    "plt.legend()"
   ]
  },
  {
   "cell_type": "code",
   "execution_count": 75,
   "id": "c24c7cde-0d86-4b96-bf6f-c229eb235023",
   "metadata": {},
   "outputs": [
    {
     "name": "stderr",
     "output_type": "stream",
     "text": [
      "WARNING:absl:Found untraced functions such as lstm_cell_22_layer_call_fn, lstm_cell_22_layer_call_and_return_conditional_losses, lstm_cell_23_layer_call_fn, lstm_cell_23_layer_call_and_return_conditional_losses while saving (showing 4 of 4). These functions will not be directly callable after loading.\n"
     ]
    },
    {
     "name": "stdout",
     "output_type": "stream",
     "text": [
      "INFO:tensorflow:Assets written to: saved_model/hourly_50_model\\assets\n"
     ]
    },
    {
     "name": "stderr",
     "output_type": "stream",
     "text": [
      "INFO:tensorflow:Assets written to: saved_model/hourly_50_model\\assets\n"
     ]
    }
   ],
   "source": [
    "# model = load_model('saved_model/hourly_model')\n",
    "# model.save('saved_model/hourly_50_model')\n",
    "# model.summary()"
   ]
  },
  {
   "cell_type": "markdown",
   "id": "47d6abba",
   "metadata": {},
   "source": [
    "## Prediction"
   ]
  },
  {
   "cell_type": "code",
   "execution_count": 72,
   "id": "a52a2673-57ef-4ff4-95ae-eb9203e38c96",
   "metadata": {},
   "outputs": [
    {
     "name": "stdout",
     "output_type": "stream",
     "text": [
      "257/257 [==============================] - 3s 9ms/step\n"
     ]
    }
   ],
   "source": [
    "y_predict = model.predict(x_test)"
   ]
  },
  {
   "cell_type": "code",
   "execution_count": 73,
   "id": "03560e03-acd2-4923-ab57-314c74958c1e",
   "metadata": {},
   "outputs": [
    {
     "data": {
      "text/plain": [
       "<matplotlib.legend.Legend at 0x205d1338d60>"
      ]
     },
     "execution_count": 73,
     "metadata": {},
     "output_type": "execute_result"
    },
    {
     "data": {
      "image/png": "[encoded data removed]",
      "text/plain": [
       "<Figure size 432x288 with 1 Axes>"
      ]
     },
     "metadata": {
      "needs_background": "light"
     },
     "output_type": "display_data"
    }
   ],
   "source": [
    "plt.plot(y_test.flatten(), label='test')\n",
    "plt.plot(y_predict.flatten(), 'r-', label='predict')\n",
    "plt.legend()"
   ]
  },
  {
   "cell_type": "code",
   "execution_count": 74,
   "id": "ffeef65c-5ead-4070-a5aa-8dd47bb543c4",
   "metadata": {},
   "outputs": [
    {
     "name": "stdout",
     "output_type": "stream",
     "text": [
      "MSE: 0.000732795355684463\n",
      "MAE: 0.022013486507589348\n"
     ]
    }
   ],
   "source": [
    "calculate_metrics(y_test, y_predict)"
   ]
  },
  {
   "cell_type": "markdown",
   "id": "6cb03cf9",
   "metadata": {},
   "source": [
    "## WALK OVER PREDICTION\n"
   ]
  },
  {
   "cell_type": "code",
   "execution_count": null,
   "id": "c25fba99",
   "metadata": {},
   "outputs": [],
   "source": [
    "# predictions = []\n",
    "# predictions_inversed = []\n",
    "# history = train_normalized\n",
    "# for i in tqdm(test_normalized):\n",
    "#     history = history[-lookback:] \n",
    "#     ## new axis because 3D is expected as input ##\n",
    "#     prediction = model.predict(history[np.newaxis,:,:], verbose = 0)\n",
    "#     predictions_inversed.append(float(scaler.inverse_transform(prediction)))\n",
    "#     predictions.append(float(prediction))\n",
    "#     ## a square bracket to match dimension at individual level ##\n",
    "#     history = np.append(history, [i], axis=0)"
   ]
  },
  {
   "cell_type": "code",
   "execution_count": null,
   "id": "398ce9fd",
   "metadata": {},
   "outputs": [],
   "source": [
    "# print(f'RMSE: {mean_squared_error(predictions, test_normalized.flatten(), squared=False)}')\n",
    "# print(f'RMSE: {mean_squared_error(predictions_inversed, test, squared=False)}')"
   ]
  },
  {
   "cell_type": "code",
   "execution_count": null,
   "id": "7b8db056",
   "metadata": {},
   "outputs": [],
   "source": [
    "# plt.plot(test, label='test')\n",
    "# plt.plot(predictions_inversed, 'r-', label='predict')\n",
    "# # plt.legend()"
   ]
  },
  {
   "cell_type": "code",
   "execution_count": null,
   "id": "06fbf4a7",
   "metadata": {},
   "outputs": [],
   "source": []
  }
 ],
 "metadata": {
  "environment": {
   "kernel": "python3",
   "name": "tf2-gpu.2-9.m94",
   "type": "gcloud",
   "uri": "gcr.io/deeplearning-platform-release/tf2-gpu.2-9:m94"
  },
  "kernelspec": {
   "display_name": "Python 3 (ipykernel)",
   "language": "python",
   "name": "python3"
  },
  "language_info": {
   "codemirror_mode": {
    "name": "ipython",
    "version": 3
   },
   "file_extension": ".py",
   "mimetype": "text/x-python",
   "name": "python",
   "nbconvert_exporter": "python",
   "pygments_lexer": "ipython3",
   "version": "3.9.12"
  }
 },
 "nbformat": 4,
 "nbformat_minor": 5
}
