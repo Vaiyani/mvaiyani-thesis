{
 "cells": [
  {
   "cell_type": "code",
   "execution_count": 6,
   "id": "ebdfc99e",
   "metadata": {},
   "outputs": [],
   "source": [
    "import pandas as pd\n",
    "import math\n",
    "import matplotlib.pyplot as plt\n",
    "import keras_tuner as kt\n",
    "import plotly.express as px\n",
    "import numpy as np\n",
    "import plotly.graph_objects as go\n",
    "from tqdm import tqdm\n",
    "from sklearn.preprocessing import MinMaxScaler\n",
    "from sklearn.metrics import mean_absolute_percentage_error, mean_squared_error\n",
    "from tensorflow.keras.models import save_model, model_from_json, Sequential\n",
    "from tensorflow.keras.layers import Dense, LSTM, Dropout\n",
    "from tensorflow import keras\n",
    "from keras_tuner.tuners import RandomSearch\n",
    "from keras.models import load_model\n",
    "from plotly.subplots import make_subplots\n",
    "from keras_tuner.engine.hyperparameters import HyperParameters\n",
    "from typing import Union\n",
    "import warnings\n",
    "warnings.simplefilter(\"ignore\", UserWarning)"
   ]
  },
  {
   "cell_type": "code",
   "execution_count": 7,
   "id": "b9740fdf",
   "metadata": {},
   "outputs": [],
   "source": [
    "df = pd.read_csv('../data/cleaned_data.csv')\n",
    "data = df['close'].values\n",
    "data = data.reshape(-1,1)\n",
    "lookback = 50"
   ]
  },
  {
   "cell_type": "code",
   "execution_count": 53,
   "id": "cc28a207",
   "metadata": {},
   "outputs": [],
   "source": [
    "def min_max_scale(train: np.array, test: np.array) -> Union[MinMaxScaler, np.array, np.array]:\n",
    "    \"\"\" Tranform the train and test data into min max scale of train data\"\"\"\n",
    "    scaler = MinMaxScaler()\n",
    "    scaler = scaler.fit(train)\n",
    "    train_normalized = scaler.transform(train)\n",
    "    test_normalized = scaler.transform(test)\n",
    "    return scaler, train_normalized, test_normalized\n",
    "\n",
    "def training_test_divider(data: np.array, threshold: int):\n",
    "    \"\"\" This functions divideds the data (close price) into 80 20 ration for test and train data \"\"\"\n",
    "    train_test_divider = int(len(data)*threshold)\n",
    "    training_data, testing_data = data[:train_test_divider], data[train_test_divider:]\n",
    "    return training_data, testing_data\n",
    "\n",
    "def sliding_window(data: [], window_length: int) -> Union[np.array, np.array]:\n",
    "    \"\"\" \n",
    "    This function creates a sliding window pattern from the data given and window length given.\n",
    "    For example:\n",
    "    Data = [[1],[2],[3],[4],[5],[6]]\n",
    "    sliding window = 2\n",
    "    X = [[[1],[2]],[[2],[3]],[[3],[4]],[[4],[5]]]\n",
    "    Y = [[3],[4],[5],[6]]\n",
    "    \n",
    "    \"\"\"\n",
    "    X = []\n",
    "    Y = []\n",
    "    for i in range(len(data) - window_length):\n",
    "        X.append(data[i: i+ window_length])\n",
    "        Y.append(data[i+window_length])\n",
    "    \n",
    "    return np.array(X), np.array(Y)\n",
    "\n",
    "def model_builder(hp):\n",
    "    \"\"\" Keras hyper paramter tuner model builder\"\"\"\n",
    "    \n",
    "    hp_activation = hp.Choice('activationfunc', ['relu', 'tanh', 'selu'])\n",
    "    hp_dropout = hp.Choice('dropout', values=[0.05, 0.1, 0.2])  \n",
    "    model = Sequential()\n",
    "    model.add(LSTM(hp.Int('first_layer_neurons', min_value=10, max_value=25, step=2), \n",
    "                   activation= hp_activation, return_sequences=True))\n",
    "    model.add(Dropout(hp_dropout))\n",
    "    model.add(LSTM(hp.Int('second_layer_neurons', min_value=10, max_value=25, step=2), activation= hp_activation))\n",
    "    model.add(Dense(1))\n",
    "    hp_learning_rate = hp.Choice('learning_rate', values=[1e-2, 1e-3, 1e-4])\n",
    "\n",
    "    model.compile(optimizer=keras.optimizers.Adam(learning_rate=hp_learning_rate),\n",
    "                  loss='mse',\n",
    "                  metrics='mse')\n",
    "\n",
    "    return model"
   ]
  },
  {
   "cell_type": "code",
   "execution_count": 16,
   "id": "a03dfd89",
   "metadata": {},
   "outputs": [],
   "source": [
    "train, test = training_test_divider(data, 0.8)\n",
    "scaler, train_normalized, test_normalized = min_max_scale(train, test)\n",
    "x_train, y_train = sliding_window(train_normalized, lookback)\n",
    "x_test, y_test = sliding_window(test_normalized, lookback)"
   ]
  },
  {
   "cell_type": "code",
   "execution_count": 22,
   "id": "2d66ddca",
   "metadata": {},
   "outputs": [
    {
     "name": "stdout",
     "output_type": "stream",
     "text": [
      "INFO:tensorflow:Reloading Oracle from existing project my_dir\\intro_to_kt\\oracle.json\n",
      "INFO:tensorflow:Reloading Tuner from my_dir\\intro_to_kt\\tuner0.json\n"
     ]
    }
   ],
   "source": [
    "tuner = kt.RandomSearch(model_builder, objective='val_mse', max_trials=30, directory='my_dir', project_name='intro_to_kt')"
   ]
  },
  {
   "cell_type": "code",
   "execution_count": 23,
   "id": "7244134a",
   "metadata": {},
   "outputs": [
    {
     "name": "stdout",
     "output_type": "stream",
     "text": [
      "Search space summary\n",
      "Default search space size: 5\n",
      "activationfunc (Choice)\n",
      "{'default': 'relu', 'conditions': [], 'values': ['relu', 'tanh', 'selu'], 'ordered': False}\n",
      "dropout (Choice)\n",
      "{'default': 0.05, 'conditions': [], 'values': [0.05, 0.1, 0.2], 'ordered': True}\n",
      "first_layer_neurons (Int)\n",
      "{'default': None, 'conditions': [], 'min_value': 10, 'max_value': 25, 'step': 2, 'sampling': None}\n",
      "second_layer_neurons (Int)\n",
      "{'default': None, 'conditions': [], 'min_value': 10, 'max_value': 25, 'step': 2, 'sampling': None}\n",
      "learning_rate (Choice)\n",
      "{'default': 0.01, 'conditions': [], 'values': [0.01, 0.001, 0.0001], 'ordered': True}\n"
     ]
    }
   ],
   "source": [
    "tuner.search_space_summary()"
   ]
  },
  {
   "cell_type": "code",
   "execution_count": 24,
   "id": "ed1e35be",
   "metadata": {},
   "outputs": [],
   "source": [
    "stop_early = keras.callbacks.EarlyStopping(monitor='val_loss', patience=5)"
   ]
  },
  {
   "cell_type": "code",
   "execution_count": 25,
   "id": "a6c217cf",
   "metadata": {},
   "outputs": [
    {
     "name": "stdout",
     "output_type": "stream",
     "text": [
      "INFO:tensorflow:Oracle triggered exit\n"
     ]
    }
   ],
   "source": [
    "tuner.search(x_train, y_train, epochs=100, validation_split=0.2, callbacks=[stop_early])"
   ]
  },
  {
   "cell_type": "code",
   "execution_count": 26,
   "id": "60a2d759",
   "metadata": {},
   "outputs": [],
   "source": [
    "# tuner.results_summary()"
   ]
  },
  {
   "cell_type": "code",
   "execution_count": 27,
   "id": "d3a1c946-eef6-4fe1-8c98-2d057bd865c1",
   "metadata": {},
   "outputs": [],
   "source": [
    "best_hps = tuner.get_best_hyperparameters()[0]\n",
    "# Build the model with the best hp.\n",
    "model = model_builder(best_hps)"
   ]
  },
  {
   "cell_type": "code",
   "execution_count": 28,
   "id": "0451bf48-2d13-4b96-aae7-a905456a95b1",
   "metadata": {},
   "outputs": [
    {
     "name": "stdout",
     "output_type": "stream",
     "text": [
      "Best Hyper Parameters\n",
      "\n",
      "Layer 1 neuron:\n",
      "24\n",
      "\n",
      "Layer 2 neuron:\n",
      "24\n",
      "\n",
      "Activation Function:\n",
      "selu\n",
      "\n",
      "learning_rate:\n",
      "0.001\n",
      "\n",
      "Dropout rate:\n",
      "0.2\n"
     ]
    }
   ],
   "source": [
    "print('Best Hyper Parameters\\n')\n",
    "print('Layer 1 neuron:')\n",
    "print(best_hps.get('first_layer_neurons'))\n",
    "print('\\nLayer 2 neuron:')\n",
    "print(best_hps.get('second_layer_neurons'))\n",
    "print('\\nActivation Function:')\n",
    "print(best_hps.get('activationfunc'))\n",
    "print('\\nlearning_rate:')\n",
    "print(best_hps.get('learning_rate'))\n",
    "print('\\nDropout rate:')\n",
    "print(best_hps.get('dropout'))"
   ]
  },
  {
   "cell_type": "code",
   "execution_count": 18,
   "id": "cb26b0c0-e47d-4296-87f4-ee94540a3dee",
   "metadata": {},
   "outputs": [],
   "source": [
    "stop_training_early = keras.callbacks.EarlyStopping(monitor='mse', patience=5)"
   ]
  },
  {
   "cell_type": "code",
   "execution_count": 20,
   "id": "c24c7cde-0d86-4b96-bf6f-c229eb235023",
   "metadata": {},
   "outputs": [
    {
     "name": "stdout",
     "output_type": "stream",
     "text": [
      "Epoch 1/50\n",
      "1031/1031 - 57s - loss: 1.9937e-04 - mse: 1.9937e-04 - 57s/epoch - 55ms/step\n",
      "Epoch 2/50\n",
      "1031/1031 - 56s - loss: 2.4576e-04 - mse: 2.4576e-04 - 56s/epoch - 55ms/step\n",
      "Epoch 3/50\n",
      "1031/1031 - 57s - loss: 2.5491e-04 - mse: 2.5491e-04 - 57s/epoch - 56ms/step\n",
      "Epoch 4/50\n",
      "1031/1031 - 59s - loss: 2.7199e-04 - mse: 2.7199e-04 - 59s/epoch - 57ms/step\n",
      "Epoch 5/50\n",
      "1031/1031 - 59s - loss: 2.7851e-04 - mse: 2.7851e-04 - 59s/epoch - 57ms/step\n",
      "Epoch 6/50\n",
      "1031/1031 - 57s - loss: 2.9189e-04 - mse: 2.9189e-04 - 57s/epoch - 55ms/step\n"
     ]
    }
   ],
   "source": [
    "history = model.fit(x_train, y_train, epochs=50 , verbose=2, shuffle=False, callbacks=[stop_training_early])"
   ]
  },
  {
   "cell_type": "code",
   "execution_count": 29,
   "id": "6dae81f7",
   "metadata": {},
   "outputs": [],
   "source": [
    "model = load_model('saved_model/my_model')\n",
    "# model.save('saved_model/my_model')"
   ]
  },
  {
   "cell_type": "code",
   "execution_count": 30,
   "id": "d36a5f04-e40a-49f1-bef9-56b9cb7d052f",
   "metadata": {},
   "outputs": [
    {
     "name": "stdout",
     "output_type": "stream",
     "text": [
      "Model: \"sequential_1\"\n",
      "_________________________________________________________________\n",
      " Layer (type)                Output Shape              Param #   \n",
      "=================================================================\n",
      " lstm_2 (LSTM)               (None, 50, 24)            2496      \n",
      "                                                                 \n",
      " dropout_1 (Dropout)         (None, 50, 24)            0         \n",
      "                                                                 \n",
      " lstm_3 (LSTM)               (None, 24)                4704      \n",
      "                                                                 \n",
      " dense_1 (Dense)             (None, 1)                 25        \n",
      "                                                                 \n",
      "=================================================================\n",
      "Total params: 7,225\n",
      "Trainable params: 7,225\n",
      "Non-trainable params: 0\n",
      "_________________________________________________________________\n"
     ]
    }
   ],
   "source": [
    "model.summary()"
   ]
  },
  {
   "cell_type": "code",
   "execution_count": 31,
   "id": "a52a2673-57ef-4ff4-95ae-eb9203e38c96",
   "metadata": {},
   "outputs": [
    {
     "name": "stdout",
     "output_type": "stream",
     "text": [
      "257/257 [==============================] - 3s 9ms/step\n"
     ]
    }
   ],
   "source": [
    "y_predict = model.predict(x_test)"
   ]
  },
  {
   "cell_type": "code",
   "execution_count": 47,
   "id": "03560e03-acd2-4923-ab57-314c74958c1e",
   "metadata": {},
   "outputs": [
    {
     "data": {
      "text/plain": [
       "<matplotlib.legend.Legend at 0x1a75931d580>"
      ]
     },
     "execution_count": 47,
     "metadata": {},
     "output_type": "execute_result"
    },
    {
     "data": {
      "image/png": "[encoded data removed]",
      "text/plain": [
       "<Figure size 432x288 with 1 Axes>"
      ]
     },
     "metadata": {
      "needs_background": "light"
     },
     "output_type": "display_data"
    }
   ],
   "source": [
    "plt.plot(y_test.flatten(), label='test')\n",
    "plt.plot(y_predict.flatten(), 'r-', label='predict')\n",
    "plt.legend()"
   ]
  },
  {
   "cell_type": "code",
   "execution_count": 33,
   "id": "ffeef65c-5ead-4070-a5aa-8dd47bb543c4",
   "metadata": {},
   "outputs": [
    {
     "name": "stdout",
     "output_type": "stream",
     "text": [
      "RMSE: 0.043703410703511296\n"
     ]
    }
   ],
   "source": [
    "print(f'RMSE: {mean_squared_error(y_test.flatten(), y_predict.flatten(), squared=False)}')"
   ]
  },
  {
   "cell_type": "code",
   "execution_count": 40,
   "id": "4709c04f",
   "metadata": {},
   "outputs": [
    {
     "data": {
      "text/plain": [
       "array([[0.61525905],\n",
       "       [0.61931664],\n",
       "       [0.62124515],\n",
       "       ...,\n",
       "       [0.6129865 ],\n",
       "       [0.6135609 ],\n",
       "       [0.61355066]], dtype=float32)"
      ]
     },
     "execution_count": 40,
     "metadata": {},
     "output_type": "execute_result"
    }
   ],
   "source": [
    "y_predict"
   ]
  },
  {
   "cell_type": "code",
   "execution_count": 43,
   "id": "c7c439ac",
   "metadata": {},
   "outputs": [
    {
     "data": {
      "text/plain": [
       "array([[39503.98],\n",
       "       [39387.86],\n",
       "       [39229.28],\n",
       "       ...,\n",
       "       [38591.04],\n",
       "       [38525.16],\n",
       "       [38455.02]])"
      ]
     },
     "execution_count": 43,
     "metadata": {},
     "output_type": "execute_result"
    }
   ],
   "source": [
    "y_predict_inverse = scaler.inverse_transform(y_predict)\n",
    "y_test_inverse = scaler.inverse_transform(y_test)\n",
    "y_test_inverse"
   ]
  },
  {
   "cell_type": "code",
   "execution_count": 46,
   "id": "cefad0da",
   "metadata": {},
   "outputs": [
    {
     "name": "stdout",
     "output_type": "stream",
     "text": [
      "RMSE: 2694.6762310437457\n"
     ]
    }
   ],
   "source": [
    "print(f'RMSE: {mean_squared_error(y_test_inverse.flatten(), y_predict_inverse.flatten(), squared=False)}')"
   ]
  },
  {
   "cell_type": "markdown",
   "id": "6cb03cf9",
   "metadata": {},
   "source": [
    "## WALK OVER PREDICTION\n"
   ]
  },
  {
   "cell_type": "code",
   "execution_count": 120,
   "id": "c25fba99",
   "metadata": {},
   "outputs": [
    {
     "name": "stderr",
     "output_type": "stream",
     "text": [
      "100%|██████████████████████████████████████████████████████████████████████████████| 8256/8256 [07:16<00:00, 18.93it/s]\n"
     ]
    }
   ],
   "source": [
    "predictions = []\n",
    "history = train_normalized\n",
    "for i in tqdm(test_normalized):\n",
    "    history = history[-lookback:] \n",
    "    ## new axis because 3D is expected as input ##\n",
    "    prediction = model.predict(history[np.newaxis,:,:], verbose = 0)\n",
    "    predictions.append(float(prediction))\n",
    "    ## a square bracket to match dimension at individual level ##\n",
    "    history = np.append(history, [i], axis=0)"
   ]
  },
  {
   "cell_type": "code",
   "execution_count": 59,
   "id": "9ff8f41b",
   "metadata": {},
   "outputs": [
    {
     "data": {
      "text/plain": [
       "array([[0.5653397]], dtype=float32)"
      ]
     },
     "execution_count": 59,
     "metadata": {},
     "output_type": "execute_result"
    }
   ],
   "source": [
    "lpredict = model.predict(history[np.newaxis,:,:], verbose = 0)\n",
    "lpredict"
   ]
  },
  {
   "cell_type": "code",
   "execution_count": 60,
   "id": "1be9e4e9",
   "metadata": {},
   "outputs": [
    {
     "data": {
      "text/plain": [
       "array([[37776.86]], dtype=float32)"
      ]
     },
     "execution_count": 60,
     "metadata": {},
     "output_type": "execute_result"
    }
   ],
   "source": [
    "scaler.inverse_transform(lpredict)"
   ]
  },
  {
   "cell_type": "code",
   "execution_count": null,
   "id": "33d7628b",
   "metadata": {},
   "outputs": [],
   "source": [
    "test:\n",
    "    \n",
    "1 [1.1 .. lookback]  - [1.1]\n",
    "2 [1.1 .. lookback]  - [1.5]\n",
    "3 [1.1 .. lookback]  - [1.2]"
   ]
  },
  {
   "cell_type": "code",
   "execution_count": 126,
   "id": "398ce9fd",
   "metadata": {},
   "outputs": [
    {
     "name": "stdout",
     "output_type": "stream",
     "text": [
      "RMSE: 0.07088145558495486\n"
     ]
    }
   ],
   "source": [
    "print(f'RMSE: {mean_squared_error(predictions, test_normalized.flatten(), squared=False)}')"
   ]
  },
  {
   "cell_type": "code",
   "execution_count": 128,
   "id": "7b8db056",
   "metadata": {},
   "outputs": [
    {
     "data": {
      "text/plain": [
       "[<matplotlib.lines.Line2D at 0x1e8bf542370>]"
      ]
     },
     "execution_count": 128,
     "metadata": {},
     "output_type": "execute_result"
    },
    {
     "data": {
      "image/png": "[encoded data removed]",
      "text/plain": [
       "<Figure size 432x288 with 1 Axes>"
      ]
     },
     "metadata": {
      "needs_background": "light"
     },
     "output_type": "display_data"
    }
   ],
   "source": [
    "plt.plot(test_normalized.flatten(), label='test')\n",
    "plt.plot(predictions, 'r-', label='predict')\n",
    "# plt.legend()"
   ]
  }
 ],
 "metadata": {
  "environment": {
   "kernel": "python3",
   "name": "tf2-gpu.2-9.m93",
   "type": "gcloud",
   "uri": "gcr.io/deeplearning-platform-release/tf2-gpu.2-9:m93"
  },
  "kernelspec": {
   "display_name": "Python 3 (ipykernel)",
   "language": "python",
   "name": "python3"
  },
  "language_info": {
   "codemirror_mode": {
    "name": "ipython",
    "version": 3
   },
   "file_extension": ".py",
   "mimetype": "text/x-python",
   "name": "python",
   "nbconvert_exporter": "python",
   "pygments_lexer": "ipython3",
   "version": "3.9.12"
  }
 },
 "nbformat": 4,
 "nbformat_minor": 5
}
