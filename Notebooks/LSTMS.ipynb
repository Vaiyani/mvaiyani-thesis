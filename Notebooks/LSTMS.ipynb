{
 "cells": [
  {
   "cell_type": "code",
   "execution_count": 60,
   "id": "06a47477",
   "metadata": {},
   "outputs": [],
   "source": [
    "import pandas as pd\n",
    "import numpy as np\n",
    "from sklearn.preprocessing import MinMaxScaler"
   ]
  },
  {
   "cell_type": "code",
   "execution_count": 145,
   "id": "06d16728",
   "metadata": {},
   "outputs": [],
   "source": [
    "df = pd.read_csv('../Data/cleaned_data.csv')"
   ]
  },
  {
   "cell_type": "code",
   "execution_count": 150,
   "id": "3a9ac8c1",
   "metadata": {},
   "outputs": [],
   "source": [
    "def min_max_scale(data: np.array) -> np.array:\n",
    "    \"\"\" Tranform the function into min max scale\"\"\"\n",
    "    ## goes from (41277,) to (41277,1) dimensin for scaler to work\n",
    "    data = data.reshape(-1,1)\n",
    "    data = MinMaxScaler().fit_transform(data)\n",
    "    ## goes from (41277,1) to (41277,) original dimensin\n",
    "    data = np.squeeze(data)\n",
    "    return data\n",
    "\n",
    "def training_test_divider(data: np.array, threshold: int):\n",
    "    \"\"\" This functions divideds the data (close price) into 80 20 ration for test and train data \"\"\"\n",
    "    train_test_divider = int(len(data)*threshold)\n",
    "    training_data, testing_data = data[:train_test_divider], data[train_test_divider:]\n",
    "    return training_data, testing_data\n",
    "\n",
    "def sliding_window(data: [], window_length: int) -> ([],[]):\n",
    "    \"\"\" \n",
    "    This function creates a sliding window pattern from the data given and window length given.\n",
    "    For example:\n",
    "    Data = [1,2,3,4,5,6]\n",
    "    sliding window = 2\n",
    "    X = [[1,2],[2,3],[3,4],[4,5]]\n",
    "    Y = [3,4,5,6]\n",
    "    \n",
    "    \"\"\"\n",
    "    X = []\n",
    "    Y = []\n",
    "    for i in range(len(data) - window_length):\n",
    "        X.append(data[i: i+ window_length])\n",
    "        Y.append(data[i+window_length])\n",
    "    \n",
    "    return X, Y"
   ]
  },
  {
   "cell_type": "code",
   "execution_count": 147,
   "id": "c9714f4b",
   "metadata": {},
   "outputs": [
    {
     "name": "stdout",
     "output_type": "stream",
     "text": [
      "[0.02114946 0.02124822 0.02138563 ... 0.54283205 0.54182954 0.54076219]\n",
      "33021\n"
     ]
    }
   ],
   "source": [
    "data = df['close'].values\n",
    "data = min_max_scale(data)\n",
    "train, test = training_test_divider(data, 0.8)"
   ]
  },
  {
   "cell_type": "code",
   "execution_count": 56,
   "id": "1aef51e8",
   "metadata": {},
   "outputs": [],
   "source": [
    "\n",
    "    "
   ]
  },
  {
   "cell_type": "code",
   "execution_count": null,
   "id": "1d8d35eb",
   "metadata": {},
   "outputs": [],
   "source": []
  },
  {
   "cell_type": "code",
   "execution_count": null,
   "id": "fd55f6fa",
   "metadata": {},
   "outputs": [],
   "source": []
  },
  {
   "cell_type": "code",
   "execution_count": null,
   "id": "3d8d4004",
   "metadata": {},
   "outputs": [],
   "source": []
  },
  {
   "cell_type": "code",
   "execution_count": null,
   "id": "85896f50",
   "metadata": {},
   "outputs": [],
   "source": []
  }
 ],
 "metadata": {
  "kernelspec": {
   "display_name": "Python 3 (ipykernel)",
   "language": "python",
   "name": "python3"
  },
  "language_info": {
   "codemirror_mode": {
    "name": "ipython",
    "version": 3
   },
   "file_extension": ".py",
   "mimetype": "text/x-python",
   "name": "python",
   "nbconvert_exporter": "python",
   "pygments_lexer": "ipython3",
   "version": "3.9.7"
  }
 },
 "nbformat": 4,
 "nbformat_minor": 5
}
