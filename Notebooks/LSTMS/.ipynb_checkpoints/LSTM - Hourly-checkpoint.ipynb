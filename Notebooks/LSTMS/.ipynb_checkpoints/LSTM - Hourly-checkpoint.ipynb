{
 "cells": [
  {
   "cell_type": "code",
   "execution_count": 1,
   "id": "ebdfc99e",
   "metadata": {},
   "outputs": [],
   "source": [
    "import pandas as pd\n",
    "import math\n",
    "import matplotlib.pyplot as plt\n",
    "import keras_tuner as kt\n",
    "import plotly.express as px\n",
    "import numpy as np\n",
    "import tensorflow as tf\n",
    "import plotly.graph_objects as go\n",
    "from tqdm import tqdm\n",
    "from sklearn.preprocessing import MinMaxScaler\n",
    "from sklearn.metrics import mean_absolute_percentage_error, mean_squared_error, mean_absolute_error, r2_score\n",
    "from tensorflow.keras.models import save_model, model_from_json, Sequential\n",
    "from tensorflow.keras.layers import Dense, LSTM, Dropout\n",
    "from tensorflow import keras\n",
    "from keras_tuner.tuners import RandomSearch\n",
    "from keras.models import load_model\n",
    "# from plotly.subplots import make_subplots\n",
    "from keras_tuner.engine.hyperparameters import HyperParameters\n",
    "from typing import Union\n",
    "import warnings\n",
    "warnings.simplefilter(\"ignore\", UserWarning)"
   ]
  },
  {
   "cell_type": "code",
   "execution_count": 2,
   "id": "b9740fdf",
   "metadata": {},
   "outputs": [],
   "source": [
    "df = pd.read_csv('../../data/cleaned_data.csv')\n",
    "data = df['close'].values\n",
    "data = data.reshape(-1,1)"
   ]
  },
  {
   "cell_type": "code",
   "execution_count": 3,
   "id": "cc28a207",
   "metadata": {},
   "outputs": [],
   "source": [
    "def min_max_scale(train: np.array, val:np.array, test: np.array) -> Union[MinMaxScaler, np.array, np.array, np.array]:\n",
    "    \"\"\" Tranform the train and test data into min max scale of train data\"\"\"\n",
    "    scaler = MinMaxScaler()\n",
    "    scaler = scaler.fit(train)\n",
    "    train_normalized = scaler.transform(train)\n",
    "    test_normalized = scaler.transform(test)\n",
    "    val_normalized = scaler.transform(val)\n",
    "    return scaler, train_normalized, val_normalized, test_normalized\n",
    "\n",
    "def data_divider(data: np.array, threshold: int):\n",
    "    \"\"\" This functions divideds the data (close price) into 80 20 ration for test and train data \"\"\"\n",
    "    train_test_divider = int(len(data)*threshold)\n",
    "    training_data, testing_data = data[:train_test_divider], data[train_test_divider:]\n",
    "    return training_data, testing_data\n",
    "\n",
    "def sliding_window(data: [], window_length: int, pred_len: int = 1) -> Union[np.array, np.array]:\n",
    "    \"\"\" \n",
    "    This function creates a sliding window pattern from the data given and window length given.\n",
    "    For example:\n",
    "    Data = [[1],[2],[3],[4],[5],[6]]\n",
    "    sliding window = 2\n",
    "    pred_len = 1\n",
    "    X = [[[1],[2]],[[2],[3]],[[3],[4]],[[4],[5]]]\n",
    "    Y = [[3],[4],[5],[6]]\n",
    "    \n",
    "    \"\"\"\n",
    "    X = []\n",
    "    Y = []\n",
    "    for i in range(len(data) - window_length):\n",
    "        input_end = i + window_length\n",
    "        output_end = input_end + pred_len\n",
    "        if output_end > len(data):\n",
    "            break\n",
    "        X.append(data[i: input_end])\n",
    "        Y.append(data[input_end: output_end])\n",
    "    \n",
    "    return np.array(X), np.array(Y)\n",
    "\n",
    "def model_builder(hp):\n",
    "    \"\"\" Keras hyper paramter tuner model builder\"\"\"\n",
    "#     np.random.seed(1234)\n",
    "#     tf.random.set_seed(1234) \n",
    "    hp_activation = hp.Choice('activationfunc', ['relu', 'tanh', 'selu'])\n",
    "    hp_dropout = hp.Choice('dropout', values=[0.05, 0.1, 0.2])  \n",
    "    model = Sequential()\n",
    "    model.add(LSTM(hp.Int('first_layer_neurons', min_value=10, max_value=25, step=2), \n",
    "                   activation= hp_activation, return_sequences=True))\n",
    "    model.add(Dropout(hp_dropout))\n",
    "    model.add(LSTM(hp.Int('second_layer_neurons', min_value=10, max_value=25, step=2), activation= hp_activation))\n",
    "    model.add(Dense(1))\n",
    "    hp_learning_rate = hp.Choice('learning_rate', values=[1e-2, 1e-3, 1e-4])\n",
    "\n",
    "    model.compile(optimizer=keras.optimizers.Adam(learning_rate=hp_learning_rate),\n",
    "                  loss='mse',\n",
    "                  metrics='mse')\n",
    "\n",
    "    return model\n",
    "\n",
    "def show_best_hyperparamters(best_hps):\n",
    "    print('Best Hyper Parameters\\n')\n",
    "    print('Layer 1 neuron: ', best_hps.get('first_layer_neurons'))\n",
    "    print('Layer 2 neuron: ' , best_hps.get('second_layer_neurons'))\n",
    "    print('Activation Function: ', best_hps.get('activationfunc'))\n",
    "    print('learning_rate: ', best_hps.get('learning_rate'))\n",
    "    print('Dropout rate: ', best_hps.get('dropout'))\n",
    "    \n",
    "def calculate_metrics(test: np.ndarray, predict: np.ndarray) -> float:\n",
    "    \"\"\".\"\"\"\n",
    "    RMSE = mean_squared_error(test.flatten(), predict.flatten(), squared=False)\n",
    "    MSE = mean_squared_error(test.flatten(), predict.flatten())\n",
    "    MAE = mean_absolute_error(test.flatten(), predict.flatten())\n",
    "    MAPE = mean_absolute_percentage_error(test.flatten(), predict.flatten())\n",
    "    r2 = r2_score(test.flatten(), predict.flatten())\n",
    "    print('mse: {}, mae: {}, rmse: {}, mape: {}, R2: {}'.format(MSE, MAE, RMSE, MAPE, r2))\n",
    "    "
   ]
  },
  {
   "cell_type": "code",
   "execution_count": 4,
   "id": "a03dfd89",
   "metadata": {},
   "outputs": [],
   "source": [
    "lookback = 6\n",
    "pred_len = 2\n",
    "train, test = data_divider(data, 0.8)\n",
    "val, test = data_divider(test, 0.5)\n",
    "scaler, train_normalized, val_normalized, test_normalized = min_max_scale(train, val, test)\n",
    "x_train, y_train = sliding_window(train_normalized, lookback, pred_len)\n",
    "x_val, y_val = sliding_window(val_normalized, lookback, pred_len)\n",
    "x_test, y_test = sliding_window(test_normalized, lookback, pred_len)"
   ]
  },
  {
   "cell_type": "code",
   "execution_count": 5,
   "id": "2d66ddca",
   "metadata": {},
   "outputs": [
    {
     "name": "stdout",
     "output_type": "stream",
     "text": [
      "INFO:tensorflow:Reloading Oracle from existing project my_dir\\intro_to_kt\\oracle.json\n",
      "INFO:tensorflow:Reloading Tuner from my_dir\\intro_to_kt\\tuner0.json\n",
      "INFO:tensorflow:Oracle triggered exit\n"
     ]
    }
   ],
   "source": [
    "tuner = kt.RandomSearch(model_builder, objective='val_mse', max_trials=20, directory='my_dir', project_name='intro_to_kt')\n",
    "stop_early = keras.callbacks.EarlyStopping(monitor='val_loss', patience=5)\n",
    "tuner.search(x_train, y_train, epochs=100, validation_split=0.2, callbacks=[stop_early])"
   ]
  },
  {
   "cell_type": "code",
   "execution_count": 23,
   "id": "60a2d759",
   "metadata": {},
   "outputs": [],
   "source": [
    "def model():\n",
    "    \n",
    "#     np.random.seed(1234)\n",
    "#     tf.random.set_seed(1234)\n",
    "    \n",
    "    model = keras.Sequential()\n",
    "    model.add(LSTM(100, activation= 'relu', return_sequences=True))\n",
    "    model.add(Dropout(0.2))\n",
    "    model.add(LSTM(100, activation= 'relu'))\n",
    "    model.add(Dense(pred_len))\n",
    "\n",
    "    model.compile(optimizer=keras.optimizers.Adam(learning_rate=0.00001),\n",
    "                  loss='mse')\n",
    "\n",
    "    return model"
   ]
  },
  {
   "cell_type": "code",
   "execution_count": 24,
   "id": "d3a1c946-eef6-4fe1-8c98-2d057bd865c1",
   "metadata": {
    "scrolled": true
   },
   "outputs": [],
   "source": [
    "# best_hps = tuner.get_best_hyperparameters()[0]\n",
    "# show_best_hyperparamters(best_hps)"
   ]
  },
  {
   "cell_type": "code",
   "execution_count": 25,
   "id": "cb26b0c0-e47d-4296-87f4-ee94540a3dee",
   "metadata": {},
   "outputs": [
    {
     "name": "stdout",
     "output_type": "stream",
     "text": [
      "Epoch 1/60\n",
      "1032/1032 [==============================] - 17s 13ms/step - loss: 0.0314 - val_loss: 0.1406\n",
      "Epoch 2/60\n",
      "1032/1032 [==============================] - 13s 13ms/step - loss: 0.0164 - val_loss: 0.0444\n",
      "Epoch 3/60\n",
      "1032/1032 [==============================] - 13s 12ms/step - loss: 0.0085 - val_loss: 0.0033\n",
      "Epoch 4/60\n",
      "1032/1032 [==============================] - 13s 12ms/step - loss: 0.0031 - val_loss: 2.2039e-04\n",
      "Epoch 5/60\n",
      "1032/1032 [==============================] - 13s 13ms/step - loss: 8.0062e-04 - val_loss: 3.5782e-04\n",
      "Epoch 6/60\n",
      "1032/1032 [==============================] - 13s 12ms/step - loss: 3.4030e-04 - val_loss: 3.0996e-04\n"
     ]
    }
   ],
   "source": [
    "# Build the model with the best hp.\n",
    "# model = model_builder(best_hps)\n",
    "model = model()\n",
    "\n",
    "# stop_training_early = keras.callbacks.EarlyStopping()\n",
    "stop_training_early = keras.callbacks.EarlyStopping(monitor=\"val_loss\", patience = 2)\n",
    "history = model.fit(x_train, y_train, epochs=60 , verbose=1, shuffle=False, validation_data = (x_val, y_val), callbacks=[stop_training_early])"
   ]
  },
  {
   "cell_type": "code",
   "execution_count": 8,
   "id": "82a9dd4a",
   "metadata": {},
   "outputs": [
    {
     "data": {
      "text/plain": [
       "<matplotlib.legend.Legend at 0x20b5aaecfd0>"
      ]
     },
     "execution_count": 8,
     "metadata": {},
     "output_type": "execute_result"
    },
    {
     "data": {
      "image/png": "[encoded data removed]",
      "text/plain": [
       "<Figure size 432x288 with 1 Axes>"
      ]
     },
     "metadata": {
      "needs_background": "light"
     },
     "output_type": "display_data"
    }
   ],
   "source": [
    "plt.plot(history.history['loss'], label='train loss')\n",
    "plt.plot(history.history['val_loss'], label='validation loss')\n",
    "plt.legend()"
   ]
  },
  {
   "cell_type": "code",
   "execution_count": 9,
   "id": "c24c7cde-0d86-4b96-bf6f-c229eb235023",
   "metadata": {},
   "outputs": [],
   "source": [
    "# model = load_model('saved_model/hourly_model')\n",
    "# model.save('saved_model/hourly_100_model')\n",
    "# model.summary()"
   ]
  },
  {
   "cell_type": "markdown",
   "id": "47d6abba",
   "metadata": {},
   "source": [
    "## Prediction"
   ]
  },
  {
   "cell_type": "code",
   "execution_count": 10,
   "id": "a52a2673-57ef-4ff4-95ae-eb9203e38c96",
   "metadata": {},
   "outputs": [
    {
     "name": "stdout",
     "output_type": "stream",
     "text": [
      "129/129 [==============================] - 1s 5ms/step\n"
     ]
    }
   ],
   "source": [
    "y_predict = model.predict(x_test)"
   ]
  },
  {
   "cell_type": "code",
   "execution_count": 11,
   "id": "c61d45e2",
   "metadata": {},
   "outputs": [
    {
     "data": {
      "text/plain": [
       "(4121, 2, 1)"
      ]
     },
     "execution_count": 11,
     "metadata": {},
     "output_type": "execute_result"
    }
   ],
   "source": [
    "y_test.shape"
   ]
  },
  {
   "cell_type": "code",
   "execution_count": 12,
   "id": "9ebff6bb",
   "metadata": {},
   "outputs": [
    {
     "data": {
      "text/plain": [
       "(4121, 2)"
      ]
     },
     "execution_count": 12,
     "metadata": {},
     "output_type": "execute_result"
    }
   ],
   "source": [
    "y_predict.shape"
   ]
  },
  {
   "cell_type": "code",
   "execution_count": 19,
   "id": "aa03fdfb",
   "metadata": {},
   "outputs": [],
   "source": [
    "from math import sqrt\n",
    "def evaluate_rmse(actual, predicted):\n",
    "    scores = list()\n",
    "    # calculate an RMSE score for each day\n",
    "    for i in range(actual.shape[1]):\n",
    "        # calculate mse\n",
    "        mse = mean_squared_error(actual[:, i], predicted[:, i])\n",
    "        # calculate rmse\n",
    "        rmse = sqrt(mse)\n",
    "        # store\n",
    "        scores.append(rmse)\n",
    "    # calculate overall RMSE\n",
    "    s = 0\n",
    "    for row in range(actual.shape[0]):\n",
    "        for col in range(actual.shape[1]):\n",
    "            s += (actual[row, col] - predicted[row, col])**2\n",
    "    score = sqrt(s / (actual.shape[0] * actual.shape[1]))\n",
    "    return score, scores\n",
    "\n",
    "def evaluate_mae(actual, predicted):\n",
    "    scores = list()\n",
    "    # calculate an RMSE score for each day\n",
    "    for i in range(actual.shape[1]):\n",
    "        # calculate mse\n",
    "        mae = mean_absolute_error(actual[:, i], predicted[:, i])\n",
    "        scores.append(mae)\n",
    "    # calculate overall RMSE\n",
    "    s = 0\n",
    "    for row in range(actual.shape[0]):\n",
    "        for col in range(actual.shape[1]):\n",
    "            s += abs(actual[row, col] - predicted[row, col])\n",
    "    score = s / (actual.shape[0] * actual.shape[1])\n",
    "    return score, scores"
   ]
  },
  {
   "cell_type": "code",
   "execution_count": 20,
   "id": "4c0e11d1",
   "metadata": {},
   "outputs": [
    {
     "data": {
      "text/plain": [
       "(0.3422445251966123, [0.3458214415456564, 0.3386298283101968])"
      ]
     },
     "execution_count": 20,
     "metadata": {},
     "output_type": "execute_result"
    }
   ],
   "source": [
    "evaluate_rmse(y_test, y_predict)"
   ]
  },
  {
   "cell_type": "code",
   "execution_count": 21,
   "id": "11b073ac",
   "metadata": {},
   "outputs": [
    {
     "data": {
      "text/plain": [
       "(array([0.33343379]), [0.3371709614734098, 0.32969662742801015])"
      ]
     },
     "execution_count": 21,
     "metadata": {},
     "output_type": "execute_result"
    }
   ],
   "source": [
    "evaluate_mae(y_test, y_predict)"
   ]
  },
  {
   "cell_type": "code",
   "execution_count": 13,
   "id": "614bb682",
   "metadata": {},
   "outputs": [
    {
     "name": "stdout",
     "output_type": "stream",
     "text": [
      "mse: 0.1171313150270546, mae: 0.33343379445071003, rmse: 0.3422445251966123, mape: 0.487274164608557, R2: -9.340335857050599\n"
     ]
    }
   ],
   "source": [
    "calculate_metrics(y_test, y_predict)"
   ]
  },
  {
   "cell_type": "code",
   "execution_count": null,
   "id": "48ec69f4",
   "metadata": {},
   "outputs": [],
   "source": [
    "# # plt.plot(y_test.flatten(), label='test')\n",
    "# # plt.plot(y_predict.flatten(), 'r-', label='predict')\n",
    "# # plt.legend()\n",
    "# fig = go.Figure()\n",
    "# fig.add_trace(go.Scatter(y = y_test.flatten(), name = 'Actual'))\n",
    "# fig.add_trace(go.Scatter(y = y_predict.flatten(), name = 'Predict'))"
   ]
  }
 ],
 "metadata": {
  "environment": {
   "kernel": "python3",
   "name": "tf2-gpu.2-9.m94",
   "type": "gcloud",
   "uri": "gcr.io/deeplearning-platform-release/tf2-gpu.2-9:m94"
  },
  "kernelspec": {
   "display_name": "Python 3 (ipykernel)",
   "language": "python",
   "name": "python3"
  },
  "language_info": {
   "codemirror_mode": {
    "name": "ipython",
    "version": 3
   },
   "file_extension": ".py",
   "mimetype": "text/x-python",
   "name": "python",
   "nbconvert_exporter": "python",
   "pygments_lexer": "ipython3",
   "version": "3.9.12"
  }
 },
 "nbformat": 4,
 "nbformat_minor": 5
}
