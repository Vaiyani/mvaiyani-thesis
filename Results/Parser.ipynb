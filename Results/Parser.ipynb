{
 "cells": [
  {
   "cell_type": "code",
   "execution_count": 1,
   "id": "915d23f9",
   "metadata": {},
   "outputs": [],
   "source": [
    "import pandas as pd\n",
    "import matplotlib.pyplot as plt\n",
    "from collections import defaultdict"
   ]
  },
  {
   "cell_type": "code",
   "execution_count": 2,
   "id": "29f40a41",
   "metadata": {},
   "outputs": [],
   "source": [
    "def parse_results(filename:str) -> pd.DataFrame:\n",
    "    \"Parse results text filename and creates a pandas DataFrame\"\n",
    "    \n",
    "    data = defaultdict(list)\n",
    "    with open(filename) as file:\n",
    "        for line in file:\n",
    "#             print(line)\n",
    "            if line == '\\n':\n",
    "                continue\n",
    "            if line[:3] == 'mse':\n",
    "                result = line.replace(\" \", \"\").split(',')\n",
    "                data['mse'].append(round(float(result[0].split(':')[1]),8))\n",
    "                data['mae'].append(round(float(result[1].split(':')[1]),8))\n",
    "                data['rmse'].append(round(float(result[2].split(':')[1]),8))\n",
    "                data['mape'].append(round(float(result[3].split(':')[1]),8))\n",
    "                data['mspe'].append(round(float(result[4].split(':')[1]),8))\n",
    "                data['rse'].append(round(float(result[5].split(':')[1]),8))\n",
    "                data['R2'].append(round(float(result[6].split(':')[1]),8))\n",
    "            else:\n",
    "                attributes = line.split(sep='_')\n",
    "#                 print(attributes[0])\n",
    "                data['model'].append(attributes[0])\n",
    "                data['lookback'].append(int(attributes[1].split('-')[1]))\n",
    "                data['future'].append(int(attributes[3].split('-')[1]))\n",
    "                data['pos'].append(attributes[5].split('-')[1])\n",
    "                data['val'].append(attributes[6].split('-')[1])\n",
    "                data['temp'].append(attributes[7].split('-')[1].split(' ')[0])\n",
    "\n",
    "    return pd.DataFrame.from_dict(data)\n",
    "\n",
    "def parse_lstms(filename:str) -> pd.DataFrame:\n",
    "    \"Parse results text filename and creates a pandas DataFrame\"\n",
    "    \n",
    "    data = defaultdict(list)\n",
    "    with open(filename) as file:\n",
    "        for line in file:\n",
    "            if line == '\\n':\n",
    "                continue\n",
    "            if line[:3] == 'mse':\n",
    "                result = line.replace(\" \", \"\").split(',')\n",
    "                data['mse'].append(round(float(result[0].split(':')[1]),8))\n",
    "                data['mae'].append(round(float(result[1].split(':')[1]),8))\n",
    "                data['rmse'].append(round(float(result[2].split(':')[1]),8))\n",
    "                data['mape'].append(round(float(result[3].split(':')[1]),8))\n",
    "                data['R2'].append(round(float(result[4].split(':')[1]),8))\n",
    "            else:\n",
    "                attributes = line.split(sep='_')\n",
    "                model = attributes[0]\n",
    "                data['lookback'].append(int(attributes[2].split('-')[1]))\n",
    "                data['future'].append(int(attributes[3].split('-')[1]))\n",
    "\n",
    "    return pd.DataFrame.from_dict(data)"
   ]
  },
  {
   "cell_type": "code",
   "execution_count": 3,
   "id": "7908dda7",
   "metadata": {},
   "outputs": [],
   "source": [
    "formers_org = parse_results('result-former-all-combinations.txt')\n",
    "formers_red = parse_results('reduced_data_result-former-all-combinations.txt')\n",
    "lstms_org = parse_lstms('result-lstm-original-data.txt')\n",
    "lstms_red = parse_lstms('result-lstm-reduced-data.txt')"
   ]
  },
  {
   "cell_type": "code",
   "execution_count": 11,
   "id": "4faf22c6",
   "metadata": {},
   "outputs": [
    {
     "data": {
      "text/plain": [
       "(1460, 13)"
      ]
     },
     "execution_count": 11,
     "metadata": {},
     "output_type": "execute_result"
    }
   ],
   "source": [
    "formers_org.shape"
   ]
  },
  {
   "cell_type": "code",
   "execution_count": 12,
   "id": "d88bab91",
   "metadata": {},
   "outputs": [
    {
     "data": {
      "text/plain": [
       "(1435, 13)"
      ]
     },
     "execution_count": 12,
     "metadata": {},
     "output_type": "execute_result"
    }
   ],
   "source": [
    "formers_red.shape"
   ]
  },
  {
   "cell_type": "code",
   "execution_count": null,
   "id": "f7240ee8",
   "metadata": {},
   "outputs": [],
   "source": [
    "# formers_org.model.unique()\n",
    "# formers_org.sort_values(by=['lookback','future']).head(20)\n",
    "# formers_org.sort_values(by=['model'], asc = 'False').head(15)"
   ]
  },
  {
   "cell_type": "code",
   "execution_count": null,
   "id": "64145f27",
   "metadata": {},
   "outputs": [],
   "source": [
    "formers_org.shape"
   ]
  },
  {
   "cell_type": "code",
   "execution_count": 19,
   "id": "5a18b383",
   "metadata": {},
   "outputs": [],
   "source": [
    "def merge_dfs(formers, lstms):\n",
    "    df = pd.merge(formers, lstms, how=\"left\", on=[\"lookback\", \"future\"],suffixes=('_T', '_L'))\n",
    "    cols = ['model', 'lookback', 'future','pos','val','temp','mse_T','mse_L','mae_T','mae_L',\n",
    "           'rmse_T','rmse_L','mape_T','mape_L','R2_T','R2_L','mspe','rse']\n",
    "    df = df[cols]\n",
    "    return df\n",
    "\n",
    "df_org = merge_dfs(formers_org, lstms_org)\n",
    "df_org['data_type'] = 'original'\n",
    "df_red = merge_dfs(formers_red, lstms_red)\n",
    "df_red['data_type'] = 'reduced'"
   ]
  },
  {
   "cell_type": "code",
   "execution_count": 24,
   "id": "f55b8abc",
   "metadata": {},
   "outputs": [
    {
     "data": {
      "text/html": [
       "<div>\n",
       "<style scoped>\n",
       "    .dataframe tbody tr th:only-of-type {\n",
       "        vertical-align: middle;\n",
       "    }\n",
       "\n",
       "    .dataframe tbody tr th {\n",
       "        vertical-align: top;\n",
       "    }\n",
       "\n",
       "    .dataframe thead th {\n",
       "        text-align: right;\n",
       "    }\n",
       "</style>\n",
       "<table border=\"1\" class=\"dataframe\">\n",
       "  <thead>\n",
       "    <tr style=\"text-align: right;\">\n",
       "      <th></th>\n",
       "      <th>model</th>\n",
       "      <th>lookback</th>\n",
       "      <th>future</th>\n",
       "      <th>pos</th>\n",
       "      <th>val</th>\n",
       "      <th>temp</th>\n",
       "      <th>mse_T</th>\n",
       "      <th>mse_L</th>\n",
       "      <th>mae_T</th>\n",
       "      <th>mae_L</th>\n",
       "      <th>rmse_T</th>\n",
       "      <th>rmse_L</th>\n",
       "      <th>mape_T</th>\n",
       "      <th>mape_L</th>\n",
       "      <th>R2_T</th>\n",
       "      <th>R2_L</th>\n",
       "      <th>mspe</th>\n",
       "      <th>rse</th>\n",
       "      <th>data_type</th>\n",
       "    </tr>\n",
       "  </thead>\n",
       "  <tbody>\n",
       "    <tr>\n",
       "      <th>0</th>\n",
       "      <td>Transformer</td>\n",
       "      <td>6</td>\n",
       "      <td>1</td>\n",
       "      <td>False</td>\n",
       "      <td>False</td>\n",
       "      <td>False</td>\n",
       "      <td>0.002091</td>\n",
       "      <td>0.008213</td>\n",
       "      <td>0.032362</td>\n",
       "      <td>0.071466</td>\n",
       "      <td>0.045730</td>\n",
       "      <td>0.090624</td>\n",
       "      <td>0.012369</td>\n",
       "      <td>0.029562</td>\n",
       "      <td>0.991758</td>\n",
       "      <td>0.967568</td>\n",
       "      <td>0.000276</td>\n",
       "      <td>0.090785</td>\n",
       "      <td>original</td>\n",
       "    </tr>\n",
       "    <tr>\n",
       "      <th>1</th>\n",
       "      <td>Transformer</td>\n",
       "      <td>6</td>\n",
       "      <td>12</td>\n",
       "      <td>False</td>\n",
       "      <td>False</td>\n",
       "      <td>False</td>\n",
       "      <td>0.008831</td>\n",
       "      <td>0.013306</td>\n",
       "      <td>0.071367</td>\n",
       "      <td>0.086602</td>\n",
       "      <td>0.093975</td>\n",
       "      <td>0.115353</td>\n",
       "      <td>0.029184</td>\n",
       "      <td>0.035288</td>\n",
       "      <td>0.964754</td>\n",
       "      <td>0.946917</td>\n",
       "      <td>0.001467</td>\n",
       "      <td>0.187563</td>\n",
       "      <td>original</td>\n",
       "    </tr>\n",
       "    <tr>\n",
       "      <th>2</th>\n",
       "      <td>Transformer</td>\n",
       "      <td>6</td>\n",
       "      <td>24</td>\n",
       "      <td>False</td>\n",
       "      <td>False</td>\n",
       "      <td>False</td>\n",
       "      <td>0.011372</td>\n",
       "      <td>0.108465</td>\n",
       "      <td>0.079201</td>\n",
       "      <td>0.290589</td>\n",
       "      <td>0.106638</td>\n",
       "      <td>0.329340</td>\n",
       "      <td>0.033029</td>\n",
       "      <td>0.128159</td>\n",
       "      <td>0.953927</td>\n",
       "      <td>0.562542</td>\n",
       "      <td>0.002017</td>\n",
       "      <td>0.214054</td>\n",
       "      <td>original</td>\n",
       "    </tr>\n",
       "    <tr>\n",
       "      <th>3</th>\n",
       "      <td>Transformer</td>\n",
       "      <td>6</td>\n",
       "      <td>96</td>\n",
       "      <td>False</td>\n",
       "      <td>False</td>\n",
       "      <td>False</td>\n",
       "      <td>0.034951</td>\n",
       "      <td>0.546846</td>\n",
       "      <td>0.141772</td>\n",
       "      <td>0.680890</td>\n",
       "      <td>0.186953</td>\n",
       "      <td>0.739491</td>\n",
       "      <td>0.059572</td>\n",
       "      <td>0.307729</td>\n",
       "      <td>0.843872</td>\n",
       "      <td>-1.378255</td>\n",
       "      <td>0.006445</td>\n",
       "      <td>0.389026</td>\n",
       "      <td>original</td>\n",
       "    </tr>\n",
       "    <tr>\n",
       "      <th>4</th>\n",
       "      <td>Transformer</td>\n",
       "      <td>6</td>\n",
       "      <td>192</td>\n",
       "      <td>False</td>\n",
       "      <td>False</td>\n",
       "      <td>False</td>\n",
       "      <td>0.064917</td>\n",
       "      <td>0.738369</td>\n",
       "      <td>0.201917</td>\n",
       "      <td>0.790637</td>\n",
       "      <td>0.254789</td>\n",
       "      <td>0.859284</td>\n",
       "      <td>0.086723</td>\n",
       "      <td>0.359409</td>\n",
       "      <td>0.676272</td>\n",
       "      <td>-2.498568</td>\n",
       "      <td>0.012703</td>\n",
       "      <td>0.553050</td>\n",
       "      <td>original</td>\n",
       "    </tr>\n",
       "  </tbody>\n",
       "</table>\n",
       "</div>"
      ],
      "text/plain": [
       "         model  lookback  future    pos    val   temp     mse_T     mse_L  \\\n",
       "0  Transformer         6       1  False  False  False  0.002091  0.008213   \n",
       "1  Transformer         6      12  False  False  False  0.008831  0.013306   \n",
       "2  Transformer         6      24  False  False  False  0.011372  0.108465   \n",
       "3  Transformer         6      96  False  False  False  0.034951  0.546846   \n",
       "4  Transformer         6     192  False  False  False  0.064917  0.738369   \n",
       "\n",
       "      mae_T     mae_L    rmse_T    rmse_L    mape_T    mape_L      R2_T  \\\n",
       "0  0.032362  0.071466  0.045730  0.090624  0.012369  0.029562  0.991758   \n",
       "1  0.071367  0.086602  0.093975  0.115353  0.029184  0.035288  0.964754   \n",
       "2  0.079201  0.290589  0.106638  0.329340  0.033029  0.128159  0.953927   \n",
       "3  0.141772  0.680890  0.186953  0.739491  0.059572  0.307729  0.843872   \n",
       "4  0.201917  0.790637  0.254789  0.859284  0.086723  0.359409  0.676272   \n",
       "\n",
       "       R2_L      mspe       rse data_type  \n",
       "0  0.967568  0.000276  0.090785  original  \n",
       "1  0.946917  0.001467  0.187563  original  \n",
       "2  0.562542  0.002017  0.214054  original  \n",
       "3 -1.378255  0.006445  0.389026  original  \n",
       "4 -2.498568  0.012703  0.553050  original  "
      ]
     },
     "execution_count": 24,
     "metadata": {},
     "output_type": "execute_result"
    }
   ],
   "source": [
    "df_merged = pd.concat([df_org, df_red], ignore_index=True, sort=False)\n",
    "df_merged.head()"
   ]
  },
  {
   "cell_type": "code",
   "execution_count": 26,
   "id": "9313896c",
   "metadata": {},
   "outputs": [],
   "source": [
    "df_merged.to_csv('results.csv',index=False)"
   ]
  },
  {
   "cell_type": "code",
   "execution_count": 25,
   "id": "39fdfbf3",
   "metadata": {},
   "outputs": [
    {
     "name": "stdout",
     "output_type": "stream",
     "text": [
      "(1460, 19)\n",
      "(1435, 19)\n",
      "(2895, 19)\n"
     ]
    }
   ],
   "source": [
    "print(df_org.shape)\n",
    "print(df_red.shape)\n",
    "print(df_merged.shape)"
   ]
  },
  {
   "cell_type": "code",
   "execution_count": 14,
   "id": "cc093728",
   "metadata": {},
   "outputs": [],
   "source": [
    "df_org.to_csv('./result_org.csv')\n",
    "df_red.to_csv('./result_red.csv')"
   ]
  },
  {
   "cell_type": "code",
   "execution_count": null,
   "id": "ed5a6f68",
   "metadata": {},
   "outputs": [],
   "source": [
    "# # lookback = [6 12 24 48 72 96 120 144 168 192 336 504 672 720]\n",
    "# fig, axes = plt.subplots(1, 2, figsize=(15, 5))\n",
    "# lookback = 72\n",
    "# pos = \"True\"\n",
    "# temp = \"True\"\n",
    "# val = \"True\"\n",
    "# df1 = df[(df['lookback'] == lookback) & (df['pos'] == pos) & (df['temp'] == temp) & (df['val'] == val) & (df['future'] <=96)]\n",
    "# df2 = df[(df['lookback'] == lookback) & (df['pos'] == pos) & (df['temp'] == temp) & (df['val'] == val) & (df['future'] >96)]\n",
    "# df1.plot(ax=axes[0], x='future', y=['mse_T', 'mse_L'])\n",
    "# df2.plot(ax=axes[1], x='future', y=['mse_T', 'mse_L'])"
   ]
  },
  {
   "cell_type": "code",
   "execution_count": null,
   "id": "467fbb4a",
   "metadata": {
    "scrolled": true
   },
   "outputs": [],
   "source": [
    "# df[(df['lookback'] == lookback) & (df['pos'] == pos) & (df['temp'] == temp) & (df['val'] == val)]"
   ]
  },
  {
   "cell_type": "code",
   "execution_count": 18,
   "id": "d2adaff8",
   "metadata": {},
   "outputs": [
    {
     "data": {
      "text/html": [
       "<div>\n",
       "<style scoped>\n",
       "    .dataframe tbody tr th:only-of-type {\n",
       "        vertical-align: middle;\n",
       "    }\n",
       "\n",
       "    .dataframe tbody tr th {\n",
       "        vertical-align: top;\n",
       "    }\n",
       "\n",
       "    .dataframe thead th {\n",
       "        text-align: right;\n",
       "    }\n",
       "</style>\n",
       "<table border=\"1\" class=\"dataframe\">\n",
       "  <thead>\n",
       "    <tr style=\"text-align: right;\">\n",
       "      <th></th>\n",
       "      <th>model</th>\n",
       "      <th>lookback</th>\n",
       "      <th>future</th>\n",
       "      <th>pos</th>\n",
       "      <th>val</th>\n",
       "      <th>temp</th>\n",
       "      <th>mse_T</th>\n",
       "      <th>mse_L</th>\n",
       "      <th>mae_T</th>\n",
       "      <th>mae_L</th>\n",
       "      <th>rmse_T</th>\n",
       "      <th>rmse_L</th>\n",
       "      <th>mape_T</th>\n",
       "      <th>mape_L</th>\n",
       "      <th>R2_T</th>\n",
       "      <th>R2_L</th>\n",
       "      <th>mspe</th>\n",
       "      <th>rse</th>\n",
       "    </tr>\n",
       "  </thead>\n",
       "  <tbody>\n",
       "    <tr>\n",
       "      <th>641</th>\n",
       "      <td>Transformer</td>\n",
       "      <td>6</td>\n",
       "      <td>1</td>\n",
       "      <td>True</td>\n",
       "      <td>True</td>\n",
       "      <td>True</td>\n",
       "      <td>0.00221</td>\n",
       "      <td>0.008213</td>\n",
       "      <td>0.033092</td>\n",
       "      <td>0.071466</td>\n",
       "      <td>0.047012</td>\n",
       "      <td>0.090624</td>\n",
       "      <td>0.012612</td>\n",
       "      <td>0.029562</td>\n",
       "      <td>0.99129</td>\n",
       "      <td>0.967568</td>\n",
       "      <td>0.000288</td>\n",
       "      <td>0.093329</td>\n",
       "    </tr>\n",
       "  </tbody>\n",
       "</table>\n",
       "</div>"
      ],
      "text/plain": [
       "           model  lookback  future   pos   val  temp    mse_T     mse_L  \\\n",
       "641  Transformer         6       1  True  True  True  0.00221  0.008213   \n",
       "\n",
       "        mae_T     mae_L    rmse_T    rmse_L    mape_T    mape_L     R2_T  \\\n",
       "641  0.033092  0.071466  0.047012  0.090624  0.012612  0.029562  0.99129   \n",
       "\n",
       "         R2_L      mspe       rse  \n",
       "641  0.967568  0.000288  0.093329  "
      ]
     },
     "execution_count": 18,
     "metadata": {},
     "output_type": "execute_result"
    }
   ],
   "source": [
    "lookback = 6\n",
    "future = 1\n",
    "model = 'Transformer'\n",
    "pos = \"True\"\n",
    "temp = \"True\"\n",
    "val = \"True\"\n",
    "df_org[(df_org['model'] == model) & (df_org['lookback'] == lookback) & (df_org['pos'] == pos) & (df_org['temp'] == temp) \n",
    "       & (df_org['val'] == val) & (df_org['future'] == future) ]"
   ]
  },
  {
   "cell_type": "code",
   "execution_count": null,
   "id": "40c05141",
   "metadata": {},
   "outputs": [],
   "source": []
  }
 ],
 "metadata": {
  "kernelspec": {
   "display_name": "Python 3 (ipykernel)",
   "language": "python",
   "name": "python3"
  },
  "language_info": {
   "codemirror_mode": {
    "name": "ipython",
    "version": 3
   },
   "file_extension": ".py",
   "mimetype": "text/x-python",
   "name": "python",
   "nbconvert_exporter": "python",
   "pygments_lexer": "ipython3",
   "version": "3.9.12"
  }
 },
 "nbformat": 4,
 "nbformat_minor": 5
}
